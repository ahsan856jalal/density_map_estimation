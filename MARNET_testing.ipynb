{
  "nbformat": 4,
  "nbformat_minor": 0,
  "metadata": {
    "colab": {
      "provenance": [],
      "gpuType": "T4",
      "authorship_tag": "ABX9TyOX8bzcMtZo8t8Cv7xu5V9B",
      "include_colab_link": true
    },
    "kernelspec": {
      "name": "python3",
      "display_name": "Python 3"
    },
    "language_info": {
      "name": "python"
    },
    "accelerator": "GPU"
  },
  "cells": [
    {
      "cell_type": "markdown",
      "metadata": {
        "id": "view-in-github",
        "colab_type": "text"
      },
      "source": [
        "<a href=\"https://colab.research.google.com/github/ahsan856jalal/density_map_estimation/blob/main/MARNET_testing.ipynb\" target=\"_parent\"><img src=\"https://colab.research.google.com/assets/colab-badge.svg\" alt=\"Open In Colab\"/></a>"
      ]
    },
    {
      "cell_type": "code",
      "source": [
        "from google.colab import drive\n",
        "drive.mount('/content/drive')"
      ],
      "metadata": {
        "colab": {
          "base_uri": "https://localhost:8080/"
        },
        "id": "t0rWlX85Ddk_",
        "outputId": "1b72f6c1-a99e-448c-898e-995edfd9c11c"
      },
      "execution_count": 1,
      "outputs": [
        {
          "output_type": "stream",
          "name": "stdout",
          "text": [
            "Mounted at /content/drive\n"
          ]
        }
      ]
    },
    {
      "cell_type": "code",
      "source": [
        "!cd /content/drive/MyDrive/MARUNet"
      ],
      "metadata": {
        "id": "GfQM3Eq3T7FZ"
      },
      "execution_count": 2,
      "outputs": []
    },
    {
      "cell_type": "markdown",
      "source": [
        "# MAKING JSON LISTS"
      ],
      "metadata": {
        "id": "_pRqW_MSEtiM"
      }
    },
    {
      "cell_type": "code",
      "source": [
        "import os\n",
        "import json\n",
        "img_dir = \"/content/drive/MyDrive/MARUNet/datasets/CrowdCounting/shanghaitech/part_A_final/train_data/images/\"\n",
        "\n",
        "image_files = os.listdir(img_dir)\n",
        "image_paths = [os.path.join(img_dir, file) for file in image_files]\n",
        "print(image_paths)\n",
        "\n",
        "json_file_path = \"/content/drive/MyDrive/MARUNet/json/sha_train.json\"\n",
        "with open(json_file_path, \"w\") as json_file:\n",
        "    json.dump(image_paths, json_file)\n",
        "\n",
        "print(\"Image paths saved to:\", json_file_path)"
      ],
      "metadata": {
        "colab": {
          "base_uri": "https://localhost:8080/"
        },
        "id": "HDbblTqmV3ak",
        "outputId": "d4621f31-dd97-4c71-9cd2-93dd859f4469"
      },
      "execution_count": 5,
      "outputs": [
        {
          "output_type": "stream",
          "name": "stdout",
          "text": [
            "['/content/drive/MyDrive/MARUNet/datasets/CrowdCounting/shanghaitech/part_A_final/train_data/images/IMG_1.jpg', '/content/drive/MyDrive/MARUNet/datasets/CrowdCounting/shanghaitech/part_A_final/train_data/images/IMG_10.jpg', '/content/drive/MyDrive/MARUNet/datasets/CrowdCounting/shanghaitech/part_A_final/train_data/images/IMG_11.jpg', '/content/drive/MyDrive/MARUNet/datasets/CrowdCounting/shanghaitech/part_A_final/train_data/images/IMG_12.jpg', '/content/drive/MyDrive/MARUNet/datasets/CrowdCounting/shanghaitech/part_A_final/train_data/images/IMG_13.jpg', '/content/drive/MyDrive/MARUNet/datasets/CrowdCounting/shanghaitech/part_A_final/train_data/images/IMG_14.jpg', '/content/drive/MyDrive/MARUNet/datasets/CrowdCounting/shanghaitech/part_A_final/train_data/images/IMG_15.jpg', '/content/drive/MyDrive/MARUNet/datasets/CrowdCounting/shanghaitech/part_A_final/train_data/images/IMG_18.jpg', '/content/drive/MyDrive/MARUNet/datasets/CrowdCounting/shanghaitech/part_A_final/train_data/images/IMG_17.jpg', '/content/drive/MyDrive/MARUNet/datasets/CrowdCounting/shanghaitech/part_A_final/train_data/images/IMG_16.jpg', '/content/drive/MyDrive/MARUNet/datasets/CrowdCounting/shanghaitech/part_A_final/train_data/images/IMG_2.jpg', '/content/drive/MyDrive/MARUNet/datasets/CrowdCounting/shanghaitech/part_A_final/train_data/images/IMG_19.jpg', '/content/drive/MyDrive/MARUNet/datasets/CrowdCounting/shanghaitech/part_A_final/train_data/images/IMG_20.jpg', '/content/drive/MyDrive/MARUNet/datasets/CrowdCounting/shanghaitech/part_A_final/train_data/images/IMG_3.jpg', '/content/drive/MyDrive/MARUNet/datasets/CrowdCounting/shanghaitech/part_A_final/train_data/images/IMG_6.jpg', '/content/drive/MyDrive/MARUNet/datasets/CrowdCounting/shanghaitech/part_A_final/train_data/images/IMG_7.jpg', '/content/drive/MyDrive/MARUNet/datasets/CrowdCounting/shanghaitech/part_A_final/train_data/images/IMG_4.jpg', '/content/drive/MyDrive/MARUNet/datasets/CrowdCounting/shanghaitech/part_A_final/train_data/images/IMG_5.jpg', '/content/drive/MyDrive/MARUNet/datasets/CrowdCounting/shanghaitech/part_A_final/train_data/images/IMG_8.jpg', '/content/drive/MyDrive/MARUNet/datasets/CrowdCounting/shanghaitech/part_A_final/train_data/images/IMG_9.jpg']\n",
            "Image paths saved to: /content/drive/MyDrive/MARUNet/json/sh_train.json\n"
          ]
        }
      ]
    },
    {
      "cell_type": "code",
      "source": [
        "import os\n",
        "import json\n",
        "img_dir = \"/content/drive/MyDrive/MARUNet/datasets/CrowdCounting/shanghaitech/part_A_final/test_data/images/\"\n",
        "\n",
        "image_files = os.listdir(img_dir)\n",
        "image_paths = [os.path.join(img_dir, file) for file in image_files]\n",
        "print(image_paths)\n",
        "\n",
        "json_file_path = \"/content/drive/MyDrive/MARUNet/json/sha_val.json\"\n",
        "with open(json_file_path, \"w\") as json_file:\n",
        "    json.dump(image_paths, json_file)\n",
        "\n",
        "print(\"Image paths saved to:\", json_file_path)"
      ],
      "metadata": {
        "colab": {
          "base_uri": "https://localhost:8080/"
        },
        "id": "-aYuecUTXWk1",
        "outputId": "30758a98-7ab5-4e72-8528-7a322eadb2de"
      },
      "execution_count": 6,
      "outputs": [
        {
          "output_type": "stream",
          "name": "stdout",
          "text": [
            "['/content/drive/MyDrive/MARUNet/datasets/CrowdCounting/shanghaitech/part_A_final/test_data/images/IMG_10.jpg', '/content/drive/MyDrive/MARUNet/datasets/CrowdCounting/shanghaitech/part_A_final/test_data/images/IMG_1.jpg', '/content/drive/MyDrive/MARUNet/datasets/CrowdCounting/shanghaitech/part_A_final/test_data/images/IMG_5.jpg', '/content/drive/MyDrive/MARUNet/datasets/CrowdCounting/shanghaitech/part_A_final/test_data/images/IMG_2.jpg', '/content/drive/MyDrive/MARUNet/datasets/CrowdCounting/shanghaitech/part_A_final/test_data/images/IMG_3.jpg', '/content/drive/MyDrive/MARUNet/datasets/CrowdCounting/shanghaitech/part_A_final/test_data/images/IMG_6.jpg', '/content/drive/MyDrive/MARUNet/datasets/CrowdCounting/shanghaitech/part_A_final/test_data/images/IMG_4.jpg', '/content/drive/MyDrive/MARUNet/datasets/CrowdCounting/shanghaitech/part_A_final/test_data/images/IMG_7.jpg', '/content/drive/MyDrive/MARUNet/datasets/CrowdCounting/shanghaitech/part_A_final/test_data/images/IMG_9.jpg', '/content/drive/MyDrive/MARUNet/datasets/CrowdCounting/shanghaitech/part_A_final/test_data/images/IMG_8.jpg']\n",
            "Image paths saved to: /content/drive/MyDrive/MARUNet/json/sha_val.json\n"
          ]
        }
      ]
    },
    {
      "cell_type": "markdown",
      "source": [
        "VGG-**16** model from another repository"
      ],
      "metadata": {
        "id": "OOBtshhWEzsM"
      }
    },
    {
      "cell_type": "code",
      "source": [
        "!wget --no-check-certificate \"https://web.eecs.umich.edu/~justincj/models/vgg16-00b39a1b.pth\""
      ],
      "metadata": {
        "colab": {
          "base_uri": "https://localhost:8080/"
        },
        "id": "BBrfHBIyeX40",
        "outputId": "be2ef66b-70f4-4ee4-b8cd-3e1aa4d87131"
      },
      "execution_count": 13,
      "outputs": [
        {
          "output_type": "stream",
          "name": "stdout",
          "text": [
            "--2024-06-06 10:36:54--  https://web.eecs.umich.edu/~justincj/models/vgg16-00b39a1b.pth\n",
            "Resolving web.eecs.umich.edu (web.eecs.umich.edu)... 141.212.113.214\n",
            "Connecting to web.eecs.umich.edu (web.eecs.umich.edu)|141.212.113.214|:443... connected.\n",
            "WARNING: cannot verify web.eecs.umich.edu's certificate, issued by ‘CN=InCommon RSA Server CA 2,O=Internet2,C=US’:\n",
            "  Unable to locally verify the issuer's authority.\n",
            "HTTP request sent, awaiting response... 200 OK\n",
            "Length: 553451520 (528M) [application/x-tar]\n",
            "Saving to: ‘vgg16-00b39a1b.pth’\n",
            "\n",
            "vgg16-00b39a1b.pth  100%[===================>] 527.81M  17.9MB/s    in 31s     \n",
            "\n",
            "2024-06-06 10:37:26 (16.9 MB/s) - ‘vgg16-00b39a1b.pth’ saved [553451520/553451520]\n",
            "\n"
          ]
        }
      ]
    },
    {
      "cell_type": "markdown",
      "source": [
        "CODE TO GENERATE H5 files but in location sha_...-.. folder and train and test folder inside"
      ],
      "metadata": {
        "id": "wvakfBf2E4wp"
      }
    },
    {
      "cell_type": "code",
      "source": [
        "!python /content/drive/MyDrive/MARUNet/data_prepare/make_sha_npy.py"
      ],
      "metadata": {
        "id": "bKboVGkgh7V2"
      },
      "execution_count": null,
      "outputs": []
    },
    {
      "cell_type": "code",
      "source": [
        "!python /content/drive/MyDrive/MARUNet/data_prepare/make_sh_gt.py"
      ],
      "metadata": {
        "colab": {
          "base_uri": "https://localhost:8080/"
        },
        "id": "5f74d1AvinDk",
        "outputId": "c7fa8796-8567-4c5c-9a61-5a742c6e823b"
      },
      "execution_count": 3,
      "outputs": [
        {
          "output_type": "stream",
          "name": "stdout",
          "text": [
            "/content/drive/MyDrive/MARUNet/data_prepare/make_sh_gt.py:8: DeprecationWarning: Please use `gaussian_filter` from the `scipy.ndimage` namespace, the `scipy.ndimage.filters` namespace is deprecated.\n",
            "  from scipy.ndimage.filters import gaussian_filter\n",
            " 87% 26/30 [12:15<01:53, 28.34s/it]img: IMG_4.jpg , img_h, img_w: 334 ,  500 , new_h, new_w: 384 ,  574\n",
            "100% 30/30 [14:03<00:00, 28.13s/it]\n"
          ]
        }
      ]
    },
    {
      "cell_type": "markdown",
      "source": [
        "# SHANGHAI COMPLETE DATASRT"
      ],
      "metadata": {
        "id": "st2Vo1mIFBy7"
      }
    },
    {
      "cell_type": "code",
      "source": [
        "!unzip /content/drive/MyDrive/MARUNet/shanghai_dataset_zip/shanghaitech.zip"
      ],
      "metadata": {
        "colab": {
          "base_uri": "https://localhost:8080/"
        },
        "id": "DAUgyaFkn6zB",
        "outputId": "2a801bd8-f9c9-4cbf-ef21-29bff4aa238e"
      },
      "execution_count": 3,
      "outputs": [
        {
          "output_type": "stream",
          "name": "stdout",
          "text": [
            "Archive:  /content/drive/MyDrive/MARUNet/shanghai_dataset_zip/shanghaitech.zip\n",
            "replace /content/drive/MyDrive/MARUNet/shanghai_dataset_zip/shanghai_dataset/shanghaitech/part_A_final/test_data/ground_truth/GT_IMG_1.mat? [y]es, [n]o, [A]ll, [N]one, [r]ename: "
          ]
        }
      ]
    },
    {
      "cell_type": "markdown",
      "source": [
        "# TRAIN THE MODEL"
      ],
      "metadata": {
        "id": "yoxHtgN6Ekit"
      }
    },
    {
      "cell_type": "code",
      "source": [
        "!python /content/drive/MyDrive/MARUNet/train_generic.py --model MARNet --resume '0' --epochs 10 --dataset sha --train_json /content/drive/MyDrive/MARUNet/json/sha_train.json --val_json /content/drive/MyDrive/MARUNet/json/sha_val.json --loss mse+ssim --lazy_val 0"
      ],
      "metadata": {
        "colab": {
          "base_uri": "https://localhost:8080/"
        },
        "id": "hMsya6vLT1la",
        "outputId": "4faa4edb-8c4d-42c7-af4a-c2dfa142a124"
      },
      "execution_count": 19,
      "outputs": [
        {
          "output_type": "stream",
          "name": "stdout",
          "text": [
            "/usr/local/lib/python3.10/dist-packages/torch/utils/data/dataloader.py:558: UserWarning: This DataLoader will create 8 worker processes in total. Our suggested max number of worker in current system is 2, which is smaller than what this DataLoader is going to create. Please be aware that excessive worker creation might get DataLoader running slow or even freeze, lower the worker number to avoid potential slowness/freeze if necessary.\n",
            "  warnings.warn(_create_warning_msg(\n",
            "objective dmp+amp!\n",
            "front0.0.weight  parameters loaded!\n",
            "front0.0.bias  parameters loaded!\n",
            "front0.2.weight  parameters loaded!\n",
            "front0.2.bias  parameters loaded!\n",
            "front1.1.weight  parameters loaded!\n",
            "front1.1.bias  parameters loaded!\n",
            "front1.3.weight  parameters loaded!\n",
            "front1.3.bias  parameters loaded!\n",
            "front2.1.weight  parameters loaded!\n",
            "front2.1.bias  parameters loaded!\n",
            "front2.3.weight  parameters loaded!\n",
            "front2.3.bias  parameters loaded!\n",
            "front2.5.weight  parameters loaded!\n",
            "front2.5.bias  parameters loaded!\n",
            "front3.1.weight  parameters loaded!\n",
            "front3.1.bias  parameters loaded!\n",
            "front3.3.weight  parameters loaded!\n",
            "front3.3.bias  parameters loaded!\n",
            "front3.5.weight  parameters loaded!\n",
            "front3.5.bias  parameters loaded!\n",
            "front4.1.weight  parameters loaded!\n",
            "front4.1.bias  parameters loaded!\n",
            "front4.3.weight  parameters loaded!\n",
            "front4.3.bias  parameters loaded!\n",
            "front4.5.weight  parameters loaded!\n",
            "front4.5.bias  parameters loaded!\n",
            "/content/drive/MyDrive/MARUNet/Models/vgg16-00b39a1b.pth weights loaded!\n",
            "[2024-06-06 13:25:28,740], ## model: MARNet\n",
            "[2024-06-06 13:25:28,741], ## downsample: 1\n",
            "[2024-06-06 13:25:28,741], ## dataset: sha\n",
            "[2024-06-06 13:25:28,741], ## resume: 0\n",
            "[2024-06-06 13:25:28,741], ## lr: 1e-05\n",
            "[2024-06-06 13:25:28,741], ## gpu: 0\n",
            "[2024-06-06 13:25:28,741], ## scheduler: step\n",
            "[2024-06-06 13:25:28,742], ## optimizer: Adam\n",
            "[2024-06-06 13:25:28,742], ## decay: 0.0001\n",
            "[2024-06-06 13:25:28,742], ## epochs: 10\n",
            "[2024-06-06 13:25:28,742], ## lazy_val: 0\n",
            "[2024-06-06 13:25:28,742], ## print_freq: 50\n",
            "[2024-06-06 13:25:28,742], ## train_json: /content/drive/MyDrive/MARUNet/json/sha_train.json\n",
            "[2024-06-06 13:25:28,742], ## val_json: /content/drive/MyDrive/MARUNet/json/sha_val.json\n",
            "[2024-06-06 13:25:28,743], ## loss: mse+ssim\n",
            "[2024-06-06 13:25:28,743], ## val_patch: 0\n",
            "[2024-06-06 13:25:28,743], ## crop_mode: random\n",
            "[2024-06-06 13:25:28,743], ## crop_scale: 0.5\n",
            "[2024-06-06 13:25:28,743], ## value_factor: 50.0\n",
            "[2024-06-06 13:25:28,743], ## objective: dmp+amp\n",
            "[2024-06-06 13:25:28,743], ## amp_k: 0.1\n",
            "[2024-06-06 13:25:28,744], ## bn: 0\n",
            "[2024-06-06 13:25:28,744], ## bs: 1\n",
            "[2024-06-06 13:25:28,744], ## random_crop_n: 1\n",
            "[2024-06-06 13:25:28,744], ## loss_n: 6\n",
            "[2024-06-06 13:25:28,744], ## use_bg: False\n",
            "[2024-06-06 13:25:28,744], ## warm_up: False\n",
            "[2024-06-06 13:25:28,744], ## warm_up_steps: 5\n",
            "resume0\n",
            "HERE\n",
            "----------------STARTING TRAINING---------------\n",
            "gt_paths are  /content/drive/MyDrive/MARUNet/datasets/CrowdCounting/sha_384_4-10/train/IMG_20.h5\n",
            "gt_paths are  /content/drive/MyDrive/MARUNet/datasets/CrowdCounting/sha_384_4-10/train/IMG_19.h5\n",
            "gt_paths are  /content/drive/MyDrive/MARUNet/datasets/CrowdCounting/sha_384_4-10/train/IMG_1.h5\n",
            "gt_paths are  /content/drive/MyDrive/MARUNet/datasets/CrowdCounting/sha_384_4-10/train/IMG_5.h5\n",
            "gt_paths are  /content/drive/MyDrive/MARUNet/datasets/CrowdCounting/sha_384_4-10/train/IMG_6.h5\n",
            "gt_paths are  /content/drive/MyDrive/MARUNet/datasets/CrowdCounting/sha_384_4-10/train/IMG_4.h5\n",
            "gt_paths are  /content/drive/MyDrive/MARUNet/datasets/CrowdCounting/sha_384_4-10/train/IMG_11.h5\n",
            "gt_paths are  /content/drive/MyDrive/MARUNet/datasets/CrowdCounting/sha_384_4-10/train/IMG_12.h5\n",
            "gt_paths are  /content/drive/MyDrive/MARUNet/datasets/CrowdCounting/sha_384_4-10/train/IMG_8.h5\n",
            "gt_paths are  /content/drive/MyDrive/MARUNet/datasets/CrowdCounting/sha_384_4-10/train/IMG_15.h5\n",
            "gt_paths are  /content/drive/MyDrive/MARUNet/datasets/CrowdCounting/sha_384_4-10/train/IMG_14.h5\n",
            "gt_paths are  /content/drive/MyDrive/MARUNet/datasets/CrowdCounting/sha_384_4-10/train/IMG_18.h5\n",
            "gt_paths are  /content/drive/MyDrive/MARUNet/datasets/CrowdCounting/sha_384_4-10/train/IMG_17.h5\n",
            "gt_paths are  /content/drive/MyDrive/MARUNet/datasets/CrowdCounting/sha_384_4-10/train/IMG_10.h5\n",
            "gt_paths are  /content/drive/MyDrive/MARUNet/datasets/CrowdCounting/sha_384_4-10/train/IMG_9.h5\n",
            "gt_paths are  /content/drive/MyDrive/MARUNet/datasets/CrowdCounting/sha_384_4-10/train/IMG_16.h5\n",
            "gt_paths are  /content/drive/MyDrive/MARUNet/datasets/CrowdCounting/sha_384_4-10/train/IMG_7.h5\n",
            "/usr/local/lib/python3.10/dist-packages/torch/autograd/graph.py:744: UserWarning: Plan failed with a cudnnException: CUDNN_BACKEND_EXECUTION_PLAN_DESCRIPTOR: cudnnFinalize Descriptor Failed cudnn_status: CUDNN_STATUS_NOT_SUPPORTED (Triggered internally at ../aten/src/ATen/native/cudnn/Conv_v8.cpp:919.)\n",
            "  return Variable._execution_engine.run_backward(  # Calls into the C++ engine to run the backward pass\n",
            "[ep:1], [it:0], [loss:6.01013947], [output:3481.88, target:8746.37]\n",
            "gt_paths are  /content/drive/MyDrive/MARUNet/datasets/CrowdCounting/sha_384_4-10/train/IMG_13.h5\n",
            "gt_paths are  /content/drive/MyDrive/MARUNet/datasets/CrowdCounting/sha_384_4-10/train/IMG_2.h5\n",
            "gt_paths are  /content/drive/MyDrive/MARUNet/datasets/CrowdCounting/sha_384_4-10/train/IMG_3.h5\n",
            "validation on whole images!\n",
            "gt_paths are  /content/drive/MyDrive/MARUNet/datasets/CrowdCounting/sha_384_4-10/test/IMG_10.h5\n",
            "gt:502.0, est:247.5\n",
            "gt_paths are  /content/drive/MyDrive/MARUNet/datasets/CrowdCounting/sha_384_4-10/test/IMG_1.h5\n",
            "gt:172.0, est:190.8\n",
            "gt_paths are  /content/drive/MyDrive/MARUNet/datasets/CrowdCounting/sha_384_4-10/test/IMG_5.h5\n",
            "gt:818.0, est:318.2\n",
            "gt_paths are  /content/drive/MyDrive/MARUNet/datasets/CrowdCounting/sha_384_4-10/test/IMG_2.h5\n",
            "gt:1110.0, est:277.5\n",
            "gt_paths are  /content/drive/MyDrive/MARUNet/datasets/CrowdCounting/sha_384_4-10/test/IMG_3.h5\n",
            "gt:301.0, est:96.7\n",
            "gt_paths are  /content/drive/MyDrive/MARUNet/datasets/CrowdCounting/sha_384_4-10/test/IMG_6.h5\n",
            "gt:361.0, est:226.4\n",
            "gt_paths are  /content/drive/MyDrive/MARUNet/datasets/CrowdCounting/sha_384_4-10/test/IMG_4.h5\n",
            "gt:170.0, est:84.7\n",
            "gt_paths are  /content/drive/MyDrive/MARUNet/datasets/CrowdCounting/sha_384_4-10/test/IMG_7.h5\n",
            "gt:568.0, est:142.8\n",
            "gt_paths are  /content/drive/MyDrive/MARUNet/datasets/CrowdCounting/sha_384_4-10/test/IMG_9.h5\n",
            "gt:371.0, est:138.2\n",
            "gt_paths are  /content/drive/MyDrive/MARUNet/datasets/CrowdCounting/sha_384_4-10/test/IMG_8.h5\n",
            "gt:1326.0, est:186.5\n",
            "[2024-06-06 13:25:43,093], ## MARNet Epoch 1/10 Loss:5.593640, lr:0.0000100, [CUR]:382.7, 510.7, [Best]:382.7, 510.7\n",
            "----------------STARTING TRAINING---------------\n",
            "gt_paths are  /content/drive/MyDrive/MARUNet/datasets/CrowdCounting/sha_384_4-10/train/IMG_5.h5\n",
            "gt_paths are  /content/drive/MyDrive/MARUNet/datasets/CrowdCounting/sha_384_4-10/train/IMG_11.h5\n",
            "gt_paths are  /content/drive/MyDrive/MARUNet/datasets/CrowdCounting/sha_384_4-10/train/IMG_16.h5\n",
            "gt_paths are  /content/drive/MyDrive/MARUNet/datasets/CrowdCounting/sha_384_4-10/train/IMG_4.h5\n",
            "gt_paths are  /content/drive/MyDrive/MARUNet/datasets/CrowdCounting/sha_384_4-10/train/IMG_14.h5\n",
            "gt_paths are  /content/drive/MyDrive/MARUNet/datasets/CrowdCounting/sha_384_4-10/train/IMG_18.h5\n",
            "gt_paths are  /content/drive/MyDrive/MARUNet/datasets/CrowdCounting/sha_384_4-10/train/IMG_7.h5\n",
            "gt_paths are  /content/drive/MyDrive/MARUNet/datasets/CrowdCounting/sha_384_4-10/train/IMG_1.h5\n",
            "gt_paths are  /content/drive/MyDrive/MARUNet/datasets/CrowdCounting/sha_384_4-10/train/IMG_17.h5\n",
            "gt_paths are  /content/drive/MyDrive/MARUNet/datasets/CrowdCounting/sha_384_4-10/train/IMG_19.h5\n",
            "gt_paths are  /content/drive/MyDrive/MARUNet/datasets/CrowdCounting/sha_384_4-10/train/IMG_12.h5\n",
            "gt_paths are  /content/drive/MyDrive/MARUNet/datasets/CrowdCounting/sha_384_4-10/train/IMG_2.h5\n",
            "gt_paths are  /content/drive/MyDrive/MARUNet/datasets/CrowdCounting/sha_384_4-10/train/IMG_20.h5\n",
            "gt_paths are  /content/drive/MyDrive/MARUNet/datasets/CrowdCounting/sha_384_4-10/train/IMG_10.h5\n",
            "gt_paths are  /content/drive/MyDrive/MARUNet/datasets/CrowdCounting/sha_384_4-10/train/IMG_3.h5\n",
            "gt_paths are  /content/drive/MyDrive/MARUNet/datasets/CrowdCounting/sha_384_4-10/train/IMG_6.h5\n",
            "gt_paths are  /content/drive/MyDrive/MARUNet/datasets/CrowdCounting/sha_384_4-10/train/IMG_13.h5\n",
            "[ep:2], [it:0], [loss:5.72927046], [output:2294.71, target:18842.29]\n",
            "gt_paths are  /content/drive/MyDrive/MARUNet/datasets/CrowdCounting/sha_384_4-10/train/IMG_15.h5\n",
            "gt_paths are  /content/drive/MyDrive/MARUNet/datasets/CrowdCounting/sha_384_4-10/train/IMG_9.h5\n",
            "gt_paths are  /content/drive/MyDrive/MARUNet/datasets/CrowdCounting/sha_384_4-10/train/IMG_8.h5\n",
            "validation on whole images!\n",
            "gt_paths are  /content/drive/MyDrive/MARUNet/datasets/CrowdCounting/sha_384_4-10/test/IMG_10.h5\n",
            "gt:502.0, est:198.0\n",
            "gt_paths are  /content/drive/MyDrive/MARUNet/datasets/CrowdCounting/sha_384_4-10/test/IMG_1.h5\n",
            "gt:172.0, est:151.5\n",
            "gt_paths are  /content/drive/MyDrive/MARUNet/datasets/CrowdCounting/sha_384_4-10/test/IMG_5.h5\n",
            "gt:818.0, est:260.4\n",
            "gt_paths are  /content/drive/MyDrive/MARUNet/datasets/CrowdCounting/sha_384_4-10/test/IMG_2.h5\n",
            "gt:1110.0, est:223.1\n",
            "gt_paths are  /content/drive/MyDrive/MARUNet/datasets/CrowdCounting/sha_384_4-10/test/IMG_3.h5\n",
            "gt:301.0, est:78.5\n",
            "gt_paths are  /content/drive/MyDrive/MARUNet/datasets/CrowdCounting/sha_384_4-10/test/IMG_6.h5\n",
            "gt:361.0, est:180.0\n",
            "gt_paths are  /content/drive/MyDrive/MARUNet/datasets/CrowdCounting/sha_384_4-10/test/IMG_4.h5\n",
            "gt:170.0, est:68.2\n",
            "gt_paths are  /content/drive/MyDrive/MARUNet/datasets/CrowdCounting/sha_384_4-10/test/IMG_7.h5\n",
            "gt:568.0, est:117.4\n",
            "gt_paths are  /content/drive/MyDrive/MARUNet/datasets/CrowdCounting/sha_384_4-10/test/IMG_9.h5\n",
            "gt:371.0, est:105.9\n",
            "gt_paths are  /content/drive/MyDrive/MARUNet/datasets/CrowdCounting/sha_384_4-10/test/IMG_8.h5\n",
            "gt:1326.0, est:153.9\n",
            "[2024-06-06 13:25:56,489], ## MARNet Epoch 2/10 Loss:5.037770, lr:0.0000100, [CUR]:416.2, 541.3, [Best]:382.7, 510.7\n",
            "----------------STARTING TRAINING---------------\n",
            "gt_paths are  /content/drive/MyDrive/MARUNet/datasets/CrowdCounting/sha_384_4-10/train/IMG_3.h5\n",
            "gt_paths are  /content/drive/MyDrive/MARUNet/datasets/CrowdCounting/sha_384_4-10/train/IMG_17.h5\n",
            "gt_paths are  /content/drive/MyDrive/MARUNet/datasets/CrowdCounting/sha_384_4-10/train/IMG_13.h5\n",
            "gt_paths are  /content/drive/MyDrive/MARUNet/datasets/CrowdCounting/sha_384_4-10/train/IMG_5.h5\n",
            "gt_paths are  /content/drive/MyDrive/MARUNet/datasets/CrowdCounting/sha_384_4-10/train/IMG_15.h5\n",
            "gt_paths are  /content/drive/MyDrive/MARUNet/datasets/CrowdCounting/sha_384_4-10/train/IMG_11.h5\n",
            "gt_paths are  /content/drive/MyDrive/MARUNet/datasets/CrowdCounting/sha_384_4-10/train/IMG_8.h5\n",
            "gt_paths are  /content/drive/MyDrive/MARUNet/datasets/CrowdCounting/sha_384_4-10/train/IMG_19.h5\n",
            "gt_paths are  /content/drive/MyDrive/MARUNet/datasets/CrowdCounting/sha_384_4-10/train/IMG_6.h5\n",
            "gt_paths are  /content/drive/MyDrive/MARUNet/datasets/CrowdCounting/sha_384_4-10/train/IMG_16.h5\n",
            "gt_paths are  /content/drive/MyDrive/MARUNet/datasets/CrowdCounting/sha_384_4-10/train/IMG_7.h5\n",
            "gt_paths are  /content/drive/MyDrive/MARUNet/datasets/CrowdCounting/sha_384_4-10/train/IMG_10.h5\n",
            "gt_paths are  /content/drive/MyDrive/MARUNet/datasets/CrowdCounting/sha_384_4-10/train/IMG_4.h5\n",
            "gt_paths are  /content/drive/MyDrive/MARUNet/datasets/CrowdCounting/sha_384_4-10/train/IMG_12.h5\n",
            "gt_paths are  /content/drive/MyDrive/MARUNet/datasets/CrowdCounting/sha_384_4-10/train/IMG_18.h5\n",
            "gt_paths are  /content/drive/MyDrive/MARUNet/datasets/CrowdCounting/sha_384_4-10/train/IMG_20.h5\n",
            "gt_paths are  /content/drive/MyDrive/MARUNet/datasets/CrowdCounting/sha_384_4-10/train/IMG_14.h5\n",
            "[ep:3], [it:0], [loss:5.02191114], [output:2125.95, target:8431.87]\n",
            "gt_paths are  /content/drive/MyDrive/MARUNet/datasets/CrowdCounting/sha_384_4-10/train/IMG_1.h5\n",
            "gt_paths are  /content/drive/MyDrive/MARUNet/datasets/CrowdCounting/sha_384_4-10/train/IMG_2.h5\n",
            "gt_paths are  /content/drive/MyDrive/MARUNet/datasets/CrowdCounting/sha_384_4-10/train/IMG_9.h5\n",
            "validation on whole images!\n",
            "gt_paths are  /content/drive/MyDrive/MARUNet/datasets/CrowdCounting/sha_384_4-10/test/IMG_10.h5\n",
            "gt:502.0, est:175.6\n",
            "gt_paths are  /content/drive/MyDrive/MARUNet/datasets/CrowdCounting/sha_384_4-10/test/IMG_1.h5\n",
            "gt:172.0, est:134.0\n",
            "gt_paths are  /content/drive/MyDrive/MARUNet/datasets/CrowdCounting/sha_384_4-10/test/IMG_5.h5\n",
            "gt:818.0, est:244.4\n",
            "gt_paths are  /content/drive/MyDrive/MARUNet/datasets/CrowdCounting/sha_384_4-10/test/IMG_2.h5\n",
            "gt:1110.0, est:199.1\n",
            "gt_paths are  /content/drive/MyDrive/MARUNet/datasets/CrowdCounting/sha_384_4-10/test/IMG_3.h5\n",
            "gt:301.0, est:70.6\n",
            "gt_paths are  /content/drive/MyDrive/MARUNet/datasets/CrowdCounting/sha_384_4-10/test/IMG_6.h5\n",
            "gt:361.0, est:158.4\n",
            "gt_paths are  /content/drive/MyDrive/MARUNet/datasets/CrowdCounting/sha_384_4-10/test/IMG_4.h5\n",
            "gt:170.0, est:60.7\n",
            "gt_paths are  /content/drive/MyDrive/MARUNet/datasets/CrowdCounting/sha_384_4-10/test/IMG_7.h5\n",
            "gt:568.0, est:119.8\n",
            "gt_paths are  /content/drive/MyDrive/MARUNet/datasets/CrowdCounting/sha_384_4-10/test/IMG_9.h5\n",
            "gt:371.0, est:99.2\n",
            "gt_paths are  /content/drive/MyDrive/MARUNet/datasets/CrowdCounting/sha_384_4-10/test/IMG_8.h5\n",
            "gt:1326.0, est:144.1\n",
            "[2024-06-06 13:26:09,872], ## MARNet Epoch 3/10 Loss:4.871190, lr:0.0000100, [CUR]:429.3, 551.8, [Best]:382.7, 510.7\n",
            "----------------STARTING TRAINING---------------\n",
            "gt_paths are  /content/drive/MyDrive/MARUNet/datasets/CrowdCounting/sha_384_4-10/train/IMG_4.h5\n",
            "gt_paths are  /content/drive/MyDrive/MARUNet/datasets/CrowdCounting/sha_384_4-10/train/IMG_5.h5\n",
            "gt_paths are  /content/drive/MyDrive/MARUNet/datasets/CrowdCounting/sha_384_4-10/train/IMG_19.h5\n",
            "gt_paths are  /content/drive/MyDrive/MARUNet/datasets/CrowdCounting/sha_384_4-10/train/IMG_16.h5\n",
            "gt_paths are  /content/drive/MyDrive/MARUNet/datasets/CrowdCounting/sha_384_4-10/train/IMG_9.h5\n",
            "gt_paths are  /content/drive/MyDrive/MARUNet/datasets/CrowdCounting/sha_384_4-10/train/IMG_3.h5\n",
            "gt_paths are  /content/drive/MyDrive/MARUNet/datasets/CrowdCounting/sha_384_4-10/train/IMG_18.h5\n",
            "gt_paths are  /content/drive/MyDrive/MARUNet/datasets/CrowdCounting/sha_384_4-10/train/IMG_13.h5\n",
            "gt_paths are  /content/drive/MyDrive/MARUNet/datasets/CrowdCounting/sha_384_4-10/train/IMG_2.h5\n",
            "gt_paths are  /content/drive/MyDrive/MARUNet/datasets/CrowdCounting/sha_384_4-10/train/IMG_20.h5\n",
            "gt_paths are  /content/drive/MyDrive/MARUNet/datasets/CrowdCounting/sha_384_4-10/train/IMG_7.h5\n",
            "gt_paths are  /content/drive/MyDrive/MARUNet/datasets/CrowdCounting/sha_384_4-10/train/IMG_12.h5\n",
            "gt_paths are  /content/drive/MyDrive/MARUNet/datasets/CrowdCounting/sha_384_4-10/train/IMG_14.h5\n",
            "gt_paths are  /content/drive/MyDrive/MARUNet/datasets/CrowdCounting/sha_384_4-10/train/IMG_17.h5\n",
            "gt_paths are  /content/drive/MyDrive/MARUNet/datasets/CrowdCounting/sha_384_4-10/train/IMG_1.h5\n",
            "gt_paths are  /content/drive/MyDrive/MARUNet/datasets/CrowdCounting/sha_384_4-10/train/IMG_15.h5\n",
            "gt_paths are  /content/drive/MyDrive/MARUNet/datasets/CrowdCounting/sha_384_4-10/train/IMG_10.h5\n",
            "[ep:4], [it:0], [loss:4.25089931], [output:1563.98, target:2768.30]\n",
            "gt_paths are  /content/drive/MyDrive/MARUNet/datasets/CrowdCounting/sha_384_4-10/train/IMG_6.h5\n",
            "gt_paths are  /content/drive/MyDrive/MARUNet/datasets/CrowdCounting/sha_384_4-10/train/IMG_8.h5\n",
            "gt_paths are  /content/drive/MyDrive/MARUNet/datasets/CrowdCounting/sha_384_4-10/train/IMG_11.h5\n",
            "validation on whole images!\n",
            "gt_paths are  /content/drive/MyDrive/MARUNet/datasets/CrowdCounting/sha_384_4-10/test/IMG_10.h5\n",
            "gt:502.0, est:153.4\n",
            "gt_paths are  /content/drive/MyDrive/MARUNet/datasets/CrowdCounting/sha_384_4-10/test/IMG_1.h5\n",
            "gt:172.0, est:115.5\n",
            "gt_paths are  /content/drive/MyDrive/MARUNet/datasets/CrowdCounting/sha_384_4-10/test/IMG_5.h5\n",
            "gt:818.0, est:211.9\n",
            "gt_paths are  /content/drive/MyDrive/MARUNet/datasets/CrowdCounting/sha_384_4-10/test/IMG_2.h5\n",
            "gt:1110.0, est:175.7\n",
            "gt_paths are  /content/drive/MyDrive/MARUNet/datasets/CrowdCounting/sha_384_4-10/test/IMG_3.h5\n",
            "gt:301.0, est:62.3\n",
            "gt_paths are  /content/drive/MyDrive/MARUNet/datasets/CrowdCounting/sha_384_4-10/test/IMG_6.h5\n",
            "gt:361.0, est:138.1\n",
            "gt_paths are  /content/drive/MyDrive/MARUNet/datasets/CrowdCounting/sha_384_4-10/test/IMG_4.h5\n",
            "gt:170.0, est:53.6\n",
            "gt_paths are  /content/drive/MyDrive/MARUNet/datasets/CrowdCounting/sha_384_4-10/test/IMG_7.h5\n",
            "gt:568.0, est:97.1\n",
            "gt_paths are  /content/drive/MyDrive/MARUNet/datasets/CrowdCounting/sha_384_4-10/test/IMG_9.h5\n",
            "gt:371.0, est:84.9\n",
            "gt_paths are  /content/drive/MyDrive/MARUNet/datasets/CrowdCounting/sha_384_4-10/test/IMG_8.h5\n",
            "gt:1326.0, est:117.4\n",
            "[2024-06-06 13:26:23,422], ## MARNet Epoch 4/10 Loss:4.531007, lr:0.0000100, [CUR]:448.9, 570.0, [Best]:382.7, 510.7\n",
            "----------------STARTING TRAINING---------------\n",
            "gt_paths are  /content/drive/MyDrive/MARUNet/datasets/CrowdCounting/sha_384_4-10/train/IMG_9.h5\n",
            "gt_paths are  /content/drive/MyDrive/MARUNet/datasets/CrowdCounting/sha_384_4-10/train/IMG_10.h5\n",
            "gt_paths are  /content/drive/MyDrive/MARUNet/datasets/CrowdCounting/sha_384_4-10/train/IMG_14.h5\n",
            "gt_paths are  /content/drive/MyDrive/MARUNet/datasets/CrowdCounting/sha_384_4-10/train/IMG_13.h5\n",
            "gt_paths are  /content/drive/MyDrive/MARUNet/datasets/CrowdCounting/sha_384_4-10/train/IMG_2.h5\n",
            "gt_paths are  /content/drive/MyDrive/MARUNet/datasets/CrowdCounting/sha_384_4-10/train/IMG_11.h5\n",
            "gt_paths are  /content/drive/MyDrive/MARUNet/datasets/CrowdCounting/sha_384_4-10/train/IMG_5.h5\n",
            "gt_paths are  /content/drive/MyDrive/MARUNet/datasets/CrowdCounting/sha_384_4-10/train/IMG_8.h5\n",
            "gt_paths are  /content/drive/MyDrive/MARUNet/datasets/CrowdCounting/sha_384_4-10/train/IMG_3.h5\n",
            "gt_paths are  /content/drive/MyDrive/MARUNet/datasets/CrowdCounting/sha_384_4-10/train/IMG_19.h5\n",
            "gt_paths are  /content/drive/MyDrive/MARUNet/datasets/CrowdCounting/sha_384_4-10/train/IMG_20.h5\n",
            "gt_paths are  /content/drive/MyDrive/MARUNet/datasets/CrowdCounting/sha_384_4-10/train/IMG_7.h5\n",
            "gt_paths are  /content/drive/MyDrive/MARUNet/datasets/CrowdCounting/sha_384_4-10/train/IMG_6.h5\n",
            "gt_paths are  /content/drive/MyDrive/MARUNet/datasets/CrowdCounting/sha_384_4-10/train/IMG_16.h5\n",
            "gt_paths are  /content/drive/MyDrive/MARUNet/datasets/CrowdCounting/sha_384_4-10/train/IMG_12.h5\n",
            "gt_paths are  /content/drive/MyDrive/MARUNet/datasets/CrowdCounting/sha_384_4-10/train/IMG_15.h5\n",
            "gt_paths are  /content/drive/MyDrive/MARUNet/datasets/CrowdCounting/sha_384_4-10/train/IMG_4.h5\n",
            "[ep:5], [it:0], [loss:3.73500419], [output:717.23, target:79.52]\n",
            "gt_paths are  /content/drive/MyDrive/MARUNet/datasets/CrowdCounting/sha_384_4-10/train/IMG_17.h5\n",
            "gt_paths are  /content/drive/MyDrive/MARUNet/datasets/CrowdCounting/sha_384_4-10/train/IMG_1.h5\n",
            "gt_paths are  /content/drive/MyDrive/MARUNet/datasets/CrowdCounting/sha_384_4-10/train/IMG_18.h5\n",
            "validation on whole images!\n",
            "gt_paths are  /content/drive/MyDrive/MARUNet/datasets/CrowdCounting/sha_384_4-10/test/IMG_10.h5\n",
            "gt:502.0, est:119.2\n",
            "gt_paths are  /content/drive/MyDrive/MARUNet/datasets/CrowdCounting/sha_384_4-10/test/IMG_1.h5\n",
            "gt:172.0, est:90.9\n",
            "gt_paths are  /content/drive/MyDrive/MARUNet/datasets/CrowdCounting/sha_384_4-10/test/IMG_5.h5\n",
            "gt:818.0, est:158.2\n",
            "gt_paths are  /content/drive/MyDrive/MARUNet/datasets/CrowdCounting/sha_384_4-10/test/IMG_2.h5\n",
            "gt:1110.0, est:132.0\n",
            "gt_paths are  /content/drive/MyDrive/MARUNet/datasets/CrowdCounting/sha_384_4-10/test/IMG_3.h5\n",
            "gt:301.0, est:47.1\n",
            "gt_paths are  /content/drive/MyDrive/MARUNet/datasets/CrowdCounting/sha_384_4-10/test/IMG_6.h5\n",
            "gt:361.0, est:104.9\n",
            "gt_paths are  /content/drive/MyDrive/MARUNet/datasets/CrowdCounting/sha_384_4-10/test/IMG_4.h5\n",
            "gt:170.0, est:41.7\n",
            "gt_paths are  /content/drive/MyDrive/MARUNet/datasets/CrowdCounting/sha_384_4-10/test/IMG_7.h5\n",
            "gt:568.0, est:79.0\n",
            "gt_paths are  /content/drive/MyDrive/MARUNet/datasets/CrowdCounting/sha_384_4-10/test/IMG_9.h5\n",
            "gt:371.0, est:66.6\n",
            "gt_paths are  /content/drive/MyDrive/MARUNet/datasets/CrowdCounting/sha_384_4-10/test/IMG_8.h5\n",
            "gt:1326.0, est:99.4\n",
            "[2024-06-06 13:26:37,081], ## MARNet Epoch 5/10 Loss:4.093889, lr:0.0000100, [CUR]:476.0, 594.0, [Best]:382.7, 510.7\n",
            "----------------STARTING TRAINING---------------\n",
            "gt_paths are  /content/drive/MyDrive/MARUNet/datasets/CrowdCounting/sha_384_4-10/train/IMG_9.h5\n",
            "gt_paths are  /content/drive/MyDrive/MARUNet/datasets/CrowdCounting/sha_384_4-10/train/IMG_15.h5\n",
            "gt_paths are  /content/drive/MyDrive/MARUNet/datasets/CrowdCounting/sha_384_4-10/train/IMG_8.h5\n",
            "gt_paths are  /content/drive/MyDrive/MARUNet/datasets/CrowdCounting/sha_384_4-10/train/IMG_2.h5\n",
            "gt_paths are  /content/drive/MyDrive/MARUNet/datasets/CrowdCounting/sha_384_4-10/train/IMG_18.h5\n",
            "gt_paths are  /content/drive/MyDrive/MARUNet/datasets/CrowdCounting/sha_384_4-10/train/IMG_13.h5\n",
            "gt_paths are  /content/drive/MyDrive/MARUNet/datasets/CrowdCounting/sha_384_4-10/train/IMG_16.h5\n",
            "gt_paths are  /content/drive/MyDrive/MARUNet/datasets/CrowdCounting/sha_384_4-10/train/IMG_3.h5\n",
            "gt_paths are  /content/drive/MyDrive/MARUNet/datasets/CrowdCounting/sha_384_4-10/train/IMG_10.h5\n",
            "gt_paths are  /content/drive/MyDrive/MARUNet/datasets/CrowdCounting/sha_384_4-10/train/IMG_19.h5\n",
            "gt_paths are  /content/drive/MyDrive/MARUNet/datasets/CrowdCounting/sha_384_4-10/train/IMG_12.h5\n",
            "gt_paths are  /content/drive/MyDrive/MARUNet/datasets/CrowdCounting/sha_384_4-10/train/IMG_7.h5\n",
            "gt_paths are  /content/drive/MyDrive/MARUNet/datasets/CrowdCounting/sha_384_4-10/train/IMG_5.h5\n",
            "gt_paths are  /content/drive/MyDrive/MARUNet/datasets/CrowdCounting/sha_384_4-10/train/IMG_17.h5\n",
            "gt_paths are  /content/drive/MyDrive/MARUNet/datasets/CrowdCounting/sha_384_4-10/train/IMG_20.h5\n",
            "gt_paths are  /content/drive/MyDrive/MARUNet/datasets/CrowdCounting/sha_384_4-10/train/IMG_14.h5\n",
            "gt_paths are  /content/drive/MyDrive/MARUNet/datasets/CrowdCounting/sha_384_4-10/train/IMG_11.h5\n",
            "[ep:6], [it:0], [loss:3.40202546], [output:580.35, target:3573.52]\n",
            "gt_paths are  /content/drive/MyDrive/MARUNet/datasets/CrowdCounting/sha_384_4-10/train/IMG_6.h5\n",
            "gt_paths are  /content/drive/MyDrive/MARUNet/datasets/CrowdCounting/sha_384_4-10/train/IMG_1.h5\n",
            "gt_paths are  /content/drive/MyDrive/MARUNet/datasets/CrowdCounting/sha_384_4-10/train/IMG_4.h5\n",
            "validation on whole images!\n",
            "gt_paths are  /content/drive/MyDrive/MARUNet/datasets/CrowdCounting/sha_384_4-10/test/IMG_10.h5\n",
            "gt:502.0, est:73.3\n",
            "gt_paths are  /content/drive/MyDrive/MARUNet/datasets/CrowdCounting/sha_384_4-10/test/IMG_1.h5\n",
            "gt:172.0, est:53.9\n",
            "gt_paths are  /content/drive/MyDrive/MARUNet/datasets/CrowdCounting/sha_384_4-10/test/IMG_5.h5\n",
            "gt:818.0, est:101.7\n",
            "gt_paths are  /content/drive/MyDrive/MARUNet/datasets/CrowdCounting/sha_384_4-10/test/IMG_2.h5\n",
            "gt:1110.0, est:82.2\n",
            "gt_paths are  /content/drive/MyDrive/MARUNet/datasets/CrowdCounting/sha_384_4-10/test/IMG_3.h5\n",
            "gt:301.0, est:30.0\n",
            "gt_paths are  /content/drive/MyDrive/MARUNet/datasets/CrowdCounting/sha_384_4-10/test/IMG_6.h5\n",
            "gt:361.0, est:65.0\n",
            "gt_paths are  /content/drive/MyDrive/MARUNet/datasets/CrowdCounting/sha_384_4-10/test/IMG_4.h5\n",
            "gt:170.0, est:27.4\n",
            "gt_paths are  /content/drive/MyDrive/MARUNet/datasets/CrowdCounting/sha_384_4-10/test/IMG_7.h5\n",
            "gt:568.0, est:42.8\n",
            "gt_paths are  /content/drive/MyDrive/MARUNet/datasets/CrowdCounting/sha_384_4-10/test/IMG_9.h5\n",
            "gt:371.0, est:41.0\n",
            "gt_paths are  /content/drive/MyDrive/MARUNet/datasets/CrowdCounting/sha_384_4-10/test/IMG_8.h5\n",
            "gt:1326.0, est:54.1\n",
            "[2024-06-06 13:26:50,784], ## MARNet Epoch 6/10 Loss:3.631046, lr:0.0000100, [CUR]:512.7, 628.6, [Best]:382.7, 510.7\n",
            "----------------STARTING TRAINING---------------\n",
            "gt_paths are  /content/drive/MyDrive/MARUNet/datasets/CrowdCounting/sha_384_4-10/train/IMG_20.h5\n",
            "gt_paths are  /content/drive/MyDrive/MARUNet/datasets/CrowdCounting/sha_384_4-10/train/IMG_9.h5\n",
            "gt_paths are  /content/drive/MyDrive/MARUNet/datasets/CrowdCounting/sha_384_4-10/train/IMG_12.h5\n",
            "gt_paths are  /content/drive/MyDrive/MARUNet/datasets/CrowdCounting/sha_384_4-10/train/IMG_18.h5\n",
            "gt_paths are  /content/drive/MyDrive/MARUNet/datasets/CrowdCounting/sha_384_4-10/train/IMG_19.h5\n",
            "gt_paths are  /content/drive/MyDrive/MARUNet/datasets/CrowdCounting/sha_384_4-10/train/IMG_1.h5\n",
            "gt_paths are  /content/drive/MyDrive/MARUNet/datasets/CrowdCounting/sha_384_4-10/train/IMG_4.h5\n",
            "gt_paths are  /content/drive/MyDrive/MARUNet/datasets/CrowdCounting/sha_384_4-10/train/IMG_11.h5\n",
            "gt_paths are  /content/drive/MyDrive/MARUNet/datasets/CrowdCounting/sha_384_4-10/train/IMG_5.h5\n",
            "gt_paths are  /content/drive/MyDrive/MARUNet/datasets/CrowdCounting/sha_384_4-10/train/IMG_17.h5\n",
            "gt_paths are  /content/drive/MyDrive/MARUNet/datasets/CrowdCounting/sha_384_4-10/train/IMG_7.h5\n",
            "gt_paths are  /content/drive/MyDrive/MARUNet/datasets/CrowdCounting/sha_384_4-10/train/IMG_14.h5\n",
            "gt_paths are  /content/drive/MyDrive/MARUNet/datasets/CrowdCounting/sha_384_4-10/train/IMG_2.h5\n",
            "gt_paths are  /content/drive/MyDrive/MARUNet/datasets/CrowdCounting/sha_384_4-10/train/IMG_8.h5\n",
            "gt_paths are  /content/drive/MyDrive/MARUNet/datasets/CrowdCounting/sha_384_4-10/train/IMG_13.h5\n",
            "gt_paths are  /content/drive/MyDrive/MARUNet/datasets/CrowdCounting/sha_384_4-10/train/IMG_15.h5\n",
            "gt_paths are  /content/drive/MyDrive/MARUNet/datasets/CrowdCounting/sha_384_4-10/train/IMG_10.h5\n",
            "[ep:7], [it:0], [loss:3.43543696], [output:773.57, target:8904.47]\n",
            "gt_paths are  /content/drive/MyDrive/MARUNet/datasets/CrowdCounting/sha_384_4-10/train/IMG_6.h5\n",
            "gt_paths are  /content/drive/MyDrive/MARUNet/datasets/CrowdCounting/sha_384_4-10/train/IMG_16.h5\n",
            "gt_paths are  /content/drive/MyDrive/MARUNet/datasets/CrowdCounting/sha_384_4-10/train/IMG_3.h5\n",
            "validation on whole images!\n",
            "gt_paths are  /content/drive/MyDrive/MARUNet/datasets/CrowdCounting/sha_384_4-10/test/IMG_10.h5\n",
            "gt:502.0, est:76.2\n",
            "gt_paths are  /content/drive/MyDrive/MARUNet/datasets/CrowdCounting/sha_384_4-10/test/IMG_1.h5\n",
            "gt:172.0, est:55.9\n",
            "gt_paths are  /content/drive/MyDrive/MARUNet/datasets/CrowdCounting/sha_384_4-10/test/IMG_5.h5\n",
            "gt:818.0, est:107.2\n",
            "gt_paths are  /content/drive/MyDrive/MARUNet/datasets/CrowdCounting/sha_384_4-10/test/IMG_2.h5\n",
            "gt:1110.0, est:87.7\n",
            "gt_paths are  /content/drive/MyDrive/MARUNet/datasets/CrowdCounting/sha_384_4-10/test/IMG_3.h5\n",
            "gt:301.0, est:31.2\n",
            "gt_paths are  /content/drive/MyDrive/MARUNet/datasets/CrowdCounting/sha_384_4-10/test/IMG_6.h5\n",
            "gt:361.0, est:67.5\n",
            "gt_paths are  /content/drive/MyDrive/MARUNet/datasets/CrowdCounting/sha_384_4-10/test/IMG_4.h5\n",
            "gt:170.0, est:28.1\n",
            "gt_paths are  /content/drive/MyDrive/MARUNet/datasets/CrowdCounting/sha_384_4-10/test/IMG_7.h5\n",
            "gt:568.0, est:42.8\n",
            "gt_paths are  /content/drive/MyDrive/MARUNet/datasets/CrowdCounting/sha_384_4-10/test/IMG_9.h5\n",
            "gt:371.0, est:40.9\n",
            "gt_paths are  /content/drive/MyDrive/MARUNet/datasets/CrowdCounting/sha_384_4-10/test/IMG_8.h5\n",
            "gt:1326.0, est:55.9\n",
            "[2024-06-06 13:27:04,615], ## MARNet Epoch 7/10 Loss:3.736458, lr:0.0000100, [CUR]:510.6, 626.3, [Best]:382.7, 510.7\n",
            "----------------STARTING TRAINING---------------\n",
            "gt_paths are  /content/drive/MyDrive/MARUNet/datasets/CrowdCounting/sha_384_4-10/train/IMG_9.h5\n",
            "gt_paths are  /content/drive/MyDrive/MARUNet/datasets/CrowdCounting/sha_384_4-10/train/IMG_1.h5\n",
            "gt_paths are  /content/drive/MyDrive/MARUNet/datasets/CrowdCounting/sha_384_4-10/train/IMG_8.h5\n",
            "gt_paths are  /content/drive/MyDrive/MARUNet/datasets/CrowdCounting/sha_384_4-10/train/IMG_6.h5\n",
            "gt_paths are  /content/drive/MyDrive/MARUNet/datasets/CrowdCounting/sha_384_4-10/train/IMG_19.h5\n",
            "gt_paths are  /content/drive/MyDrive/MARUNet/datasets/CrowdCounting/sha_384_4-10/train/IMG_16.h5\n",
            "gt_paths are  /content/drive/MyDrive/MARUNet/datasets/CrowdCounting/sha_384_4-10/train/IMG_15.h5\n",
            "gt_paths are  /content/drive/MyDrive/MARUNet/datasets/CrowdCounting/sha_384_4-10/train/IMG_14.h5\n",
            "gt_paths are  /content/drive/MyDrive/MARUNet/datasets/CrowdCounting/sha_384_4-10/train/IMG_3.h5\n",
            "gt_paths are  /content/drive/MyDrive/MARUNet/datasets/CrowdCounting/sha_384_4-10/train/IMG_18.h5\n",
            "gt_paths are  /content/drive/MyDrive/MARUNet/datasets/CrowdCounting/sha_384_4-10/train/IMG_7.h5\n",
            "gt_paths are  /content/drive/MyDrive/MARUNet/datasets/CrowdCounting/sha_384_4-10/train/IMG_13.h5\n",
            "gt_paths are  /content/drive/MyDrive/MARUNet/datasets/CrowdCounting/sha_384_4-10/train/IMG_10.h5\n",
            "gt_paths are  /content/drive/MyDrive/MARUNet/datasets/CrowdCounting/sha_384_4-10/train/IMG_4.h5\n",
            "gt_paths are  /content/drive/MyDrive/MARUNet/datasets/CrowdCounting/sha_384_4-10/train/IMG_12.h5\n",
            "gt_paths are  /content/drive/MyDrive/MARUNet/datasets/CrowdCounting/sha_384_4-10/train/IMG_17.h5\n",
            "gt_paths are  /content/drive/MyDrive/MARUNet/datasets/CrowdCounting/sha_384_4-10/train/IMG_20.h5\n",
            "[ep:8], [it:0], [loss:3.22966433], [output:424.77, target:4106.40]\n",
            "gt_paths are  /content/drive/MyDrive/MARUNet/datasets/CrowdCounting/sha_384_4-10/train/IMG_11.h5\n",
            "gt_paths are  /content/drive/MyDrive/MARUNet/datasets/CrowdCounting/sha_384_4-10/train/IMG_2.h5\n",
            "gt_paths are  /content/drive/MyDrive/MARUNet/datasets/CrowdCounting/sha_384_4-10/train/IMG_5.h5\n",
            "validation on whole images!\n",
            "gt_paths are  /content/drive/MyDrive/MARUNet/datasets/CrowdCounting/sha_384_4-10/test/IMG_10.h5\n",
            "gt:502.0, est:69.3\n",
            "gt_paths are  /content/drive/MyDrive/MARUNet/datasets/CrowdCounting/sha_384_4-10/test/IMG_1.h5\n",
            "gt:172.0, est:51.1\n",
            "gt_paths are  /content/drive/MyDrive/MARUNet/datasets/CrowdCounting/sha_384_4-10/test/IMG_5.h5\n",
            "gt:818.0, est:100.2\n",
            "gt_paths are  /content/drive/MyDrive/MARUNet/datasets/CrowdCounting/sha_384_4-10/test/IMG_2.h5\n",
            "gt:1110.0, est:83.7\n",
            "gt_paths are  /content/drive/MyDrive/MARUNet/datasets/CrowdCounting/sha_384_4-10/test/IMG_3.h5\n",
            "gt:301.0, est:28.6\n",
            "gt_paths are  /content/drive/MyDrive/MARUNet/datasets/CrowdCounting/sha_384_4-10/test/IMG_6.h5\n",
            "gt:361.0, est:61.1\n",
            "gt_paths are  /content/drive/MyDrive/MARUNet/datasets/CrowdCounting/sha_384_4-10/test/IMG_4.h5\n",
            "gt:170.0, est:26.2\n",
            "gt_paths are  /content/drive/MyDrive/MARUNet/datasets/CrowdCounting/sha_384_4-10/test/IMG_7.h5\n",
            "gt:568.0, est:38.3\n",
            "gt_paths are  /content/drive/MyDrive/MARUNet/datasets/CrowdCounting/sha_384_4-10/test/IMG_9.h5\n",
            "gt:371.0, est:34.9\n",
            "gt_paths are  /content/drive/MyDrive/MARUNet/datasets/CrowdCounting/sha_384_4-10/test/IMG_8.h5\n",
            "gt:1326.0, est:50.0\n",
            "[2024-06-06 13:27:18,446], ## MARNet Epoch 8/10 Loss:3.412967, lr:0.0000100, [CUR]:515.6, 630.6, [Best]:382.7, 510.7\n",
            "----------------STARTING TRAINING---------------\n",
            "gt_paths are  /content/drive/MyDrive/MARUNet/datasets/CrowdCounting/sha_384_4-10/train/IMG_6.h5\n",
            "gt_paths are  /content/drive/MyDrive/MARUNet/datasets/CrowdCounting/sha_384_4-10/train/IMG_8.h5\n",
            "gt_paths are  /content/drive/MyDrive/MARUNet/datasets/CrowdCounting/sha_384_4-10/train/IMG_4.h5\n",
            "gt_paths are  /content/drive/MyDrive/MARUNet/datasets/CrowdCounting/sha_384_4-10/train/IMG_3.h5\n",
            "gt_paths are  /content/drive/MyDrive/MARUNet/datasets/CrowdCounting/sha_384_4-10/train/IMG_14.h5\n",
            "gt_paths are  /content/drive/MyDrive/MARUNet/datasets/CrowdCounting/sha_384_4-10/train/IMG_11.h5\n",
            "gt_paths are  /content/drive/MyDrive/MARUNet/datasets/CrowdCounting/sha_384_4-10/train/IMG_18.h5\n",
            "gt_paths are  /content/drive/MyDrive/MARUNet/datasets/CrowdCounting/sha_384_4-10/train/IMG_10.h5\n",
            "gt_paths are  /content/drive/MyDrive/MARUNet/datasets/CrowdCounting/sha_384_4-10/train/IMG_20.h5\n",
            "gt_paths are  /content/drive/MyDrive/MARUNet/datasets/CrowdCounting/sha_384_4-10/train/IMG_13.h5\n",
            "gt_paths are  /content/drive/MyDrive/MARUNet/datasets/CrowdCounting/sha_384_4-10/train/IMG_1.h5\n",
            "gt_paths are  /content/drive/MyDrive/MARUNet/datasets/CrowdCounting/sha_384_4-10/train/IMG_5.h5\n",
            "gt_paths are  /content/drive/MyDrive/MARUNet/datasets/CrowdCounting/sha_384_4-10/train/IMG_7.h5\n",
            "gt_paths are  /content/drive/MyDrive/MARUNet/datasets/CrowdCounting/sha_384_4-10/train/IMG_9.h5\n",
            "gt_paths are  /content/drive/MyDrive/MARUNet/datasets/CrowdCounting/sha_384_4-10/train/IMG_17.h5\n",
            "gt_paths are  /content/drive/MyDrive/MARUNet/datasets/CrowdCounting/sha_384_4-10/train/IMG_12.h5\n",
            "gt_paths are  /content/drive/MyDrive/MARUNet/datasets/CrowdCounting/sha_384_4-10/train/IMG_16.h5\n",
            "[ep:9], [it:0], [loss:1.97908628], [output:792.52, target:1665.59]\n",
            "gt_paths are  /content/drive/MyDrive/MARUNet/datasets/CrowdCounting/sha_384_4-10/train/IMG_19.h5\n",
            "gt_paths are  /content/drive/MyDrive/MARUNet/datasets/CrowdCounting/sha_384_4-10/train/IMG_2.h5\n",
            "gt_paths are  /content/drive/MyDrive/MARUNet/datasets/CrowdCounting/sha_384_4-10/train/IMG_15.h5\n",
            "validation on whole images!\n",
            "gt_paths are  /content/drive/MyDrive/MARUNet/datasets/CrowdCounting/sha_384_4-10/test/IMG_10.h5\n",
            "gt:502.0, est:73.8\n",
            "gt_paths are  /content/drive/MyDrive/MARUNet/datasets/CrowdCounting/sha_384_4-10/test/IMG_1.h5\n",
            "gt:172.0, est:54.0\n",
            "gt_paths are  /content/drive/MyDrive/MARUNet/datasets/CrowdCounting/sha_384_4-10/test/IMG_5.h5\n",
            "gt:818.0, est:111.0\n",
            "gt_paths are  /content/drive/MyDrive/MARUNet/datasets/CrowdCounting/sha_384_4-10/test/IMG_2.h5\n",
            "gt:1110.0, est:92.2\n",
            "gt_paths are  /content/drive/MyDrive/MARUNet/datasets/CrowdCounting/sha_384_4-10/test/IMG_3.h5\n",
            "gt:301.0, est:30.2\n",
            "gt_paths are  /content/drive/MyDrive/MARUNet/datasets/CrowdCounting/sha_384_4-10/test/IMG_6.h5\n",
            "gt:361.0, est:64.9\n",
            "gt_paths are  /content/drive/MyDrive/MARUNet/datasets/CrowdCounting/sha_384_4-10/test/IMG_4.h5\n",
            "gt:170.0, est:27.7\n",
            "gt_paths are  /content/drive/MyDrive/MARUNet/datasets/CrowdCounting/sha_384_4-10/test/IMG_7.h5\n",
            "gt:568.0, est:40.9\n",
            "gt_paths are  /content/drive/MyDrive/MARUNet/datasets/CrowdCounting/sha_384_4-10/test/IMG_9.h5\n",
            "gt:371.0, est:34.4\n",
            "gt_paths are  /content/drive/MyDrive/MARUNet/datasets/CrowdCounting/sha_384_4-10/test/IMG_8.h5\n",
            "gt:1326.0, est:52.6\n",
            "[2024-06-06 13:27:32,240], ## MARNet Epoch 9/10 Loss:3.275078, lr:0.0000100, [CUR]:511.7, 626.7, [Best]:382.7, 510.7\n",
            "----------------STARTING TRAINING---------------\n",
            "gt_paths are  /content/drive/MyDrive/MARUNet/datasets/CrowdCounting/sha_384_4-10/train/IMG_5.h5\n",
            "gt_paths are  /content/drive/MyDrive/MARUNet/datasets/CrowdCounting/sha_384_4-10/train/IMG_2.h5\n",
            "gt_paths are  /content/drive/MyDrive/MARUNet/datasets/CrowdCounting/sha_384_4-10/train/IMG_10.h5\n",
            "gt_paths are  /content/drive/MyDrive/MARUNet/datasets/CrowdCounting/sha_384_4-10/train/IMG_19.h5\n",
            "gt_paths are  /content/drive/MyDrive/MARUNet/datasets/CrowdCounting/sha_384_4-10/train/IMG_8.h5\n",
            "gt_paths are  /content/drive/MyDrive/MARUNet/datasets/CrowdCounting/sha_384_4-10/train/IMG_11.h5\n",
            "gt_paths are  /content/drive/MyDrive/MARUNet/datasets/CrowdCounting/sha_384_4-10/train/IMG_18.h5\n",
            "gt_paths are  /content/drive/MyDrive/MARUNet/datasets/CrowdCounting/sha_384_4-10/train/IMG_15.h5\n",
            "gt_paths are  /content/drive/MyDrive/MARUNet/datasets/CrowdCounting/sha_384_4-10/train/IMG_1.h5\n",
            "gt_paths are  /content/drive/MyDrive/MARUNet/datasets/CrowdCounting/sha_384_4-10/train/IMG_9.h5\n",
            "gt_paths are  /content/drive/MyDrive/MARUNet/datasets/CrowdCounting/sha_384_4-10/train/IMG_16.h5\n",
            "gt_paths are  /content/drive/MyDrive/MARUNet/datasets/CrowdCounting/sha_384_4-10/train/IMG_12.h5\n",
            "gt_paths are  /content/drive/MyDrive/MARUNet/datasets/CrowdCounting/sha_384_4-10/train/IMG_7.h5\n",
            "gt_paths are  /content/drive/MyDrive/MARUNet/datasets/CrowdCounting/sha_384_4-10/train/IMG_6.h5\n",
            "gt_paths are  /content/drive/MyDrive/MARUNet/datasets/CrowdCounting/sha_384_4-10/train/IMG_13.h5\n",
            "gt_paths are  /content/drive/MyDrive/MARUNet/datasets/CrowdCounting/sha_384_4-10/train/IMG_14.h5\n",
            "gt_paths are  /content/drive/MyDrive/MARUNet/datasets/CrowdCounting/sha_384_4-10/train/IMG_4.h5\n",
            "[ep:10], [it:0], [loss:4.19798613], [output:895.36, target:18001.97]\n",
            "gt_paths are  /content/drive/MyDrive/MARUNet/datasets/CrowdCounting/sha_384_4-10/train/IMG_17.h5\n",
            "gt_paths are  /content/drive/MyDrive/MARUNet/datasets/CrowdCounting/sha_384_4-10/train/IMG_3.h5\n",
            "gt_paths are  /content/drive/MyDrive/MARUNet/datasets/CrowdCounting/sha_384_4-10/train/IMG_20.h5\n",
            "validation on whole images!\n",
            "gt_paths are  /content/drive/MyDrive/MARUNet/datasets/CrowdCounting/sha_384_4-10/test/IMG_10.h5\n",
            "gt:502.0, est:71.7\n",
            "gt_paths are  /content/drive/MyDrive/MARUNet/datasets/CrowdCounting/sha_384_4-10/test/IMG_1.h5\n",
            "gt:172.0, est:52.4\n",
            "gt_paths are  /content/drive/MyDrive/MARUNet/datasets/CrowdCounting/sha_384_4-10/test/IMG_5.h5\n",
            "gt:818.0, est:112.5\n",
            "gt_paths are  /content/drive/MyDrive/MARUNet/datasets/CrowdCounting/sha_384_4-10/test/IMG_2.h5\n",
            "gt:1110.0, est:94.8\n",
            "gt_paths are  /content/drive/MyDrive/MARUNet/datasets/CrowdCounting/sha_384_4-10/test/IMG_3.h5\n",
            "gt:301.0, est:29.1\n",
            "gt_paths are  /content/drive/MyDrive/MARUNet/datasets/CrowdCounting/sha_384_4-10/test/IMG_6.h5\n",
            "gt:361.0, est:62.2\n",
            "gt_paths are  /content/drive/MyDrive/MARUNet/datasets/CrowdCounting/sha_384_4-10/test/IMG_4.h5\n",
            "gt:170.0, est:27.0\n",
            "gt_paths are  /content/drive/MyDrive/MARUNet/datasets/CrowdCounting/sha_384_4-10/test/IMG_7.h5\n",
            "gt:568.0, est:38.2\n",
            "gt_paths are  /content/drive/MyDrive/MARUNet/datasets/CrowdCounting/sha_384_4-10/test/IMG_9.h5\n",
            "gt:371.0, est:31.0\n",
            "gt_paths are  /content/drive/MyDrive/MARUNet/datasets/CrowdCounting/sha_384_4-10/test/IMG_8.h5\n",
            "gt:1326.0, est:49.5\n",
            "[2024-06-06 13:27:45,910], ## MARNet Epoch 10/10 Loss:3.125485, lr:0.0000100, [CUR]:513.1, 627.5, [Best]:382.7, 510.7\n"
          ]
        }
      ]
    },
    {
      "cell_type": "markdown",
      "source": [
        "# DSNET"
      ],
      "metadata": {
        "id": "89CghX_GFFk_"
      }
    },
    {
      "cell_type": "code",
      "execution_count": 2,
      "metadata": {
        "colab": {
          "base_uri": "https://localhost:8080/"
        },
        "id": "vuW1GmorDYOG",
        "outputId": "43c97d82-aeec-4856-f51c-519639020acd"
      },
      "outputs": [
        {
          "output_type": "stream",
          "name": "stdout",
          "text": [
            "Cloning into 'Dense-Scale-Network-for-Crowd-Counting'...\n",
            "remote: Enumerating objects: 59, done.\u001b[K\n",
            "remote: Counting objects: 100% (1/1), done.\u001b[K\n",
            "remote: Total 59 (delta 0), reused 0 (delta 0), pack-reused 58\u001b[K\n",
            "Receiving objects: 100% (59/59), 32.03 KiB | 712.00 KiB/s, done.\n",
            "Resolving deltas: 100% (24/24), done.\n"
          ]
        }
      ],
      "source": [
        "!git clone https://github.com/rongliangzi/Dense-Scale-Network-for-Crowd-Counting.git"
      ]
    },
    {
      "cell_type": "code",
      "source": [
        "!mv /content/Dense-Scale-Network-for-Crowd-Counting /content/drive/MyDrive/DSNET"
      ],
      "metadata": {
        "id": "NOrvCCt8EeIq"
      },
      "execution_count": 3,
      "outputs": []
    },
    {
      "cell_type": "code",
      "source": [
        "!cd /content/drive/MyDrive/DSNET"
      ],
      "metadata": {
        "id": "aXxDAGHgFpIH"
      },
      "execution_count": 2,
      "outputs": []
    },
    {
      "cell_type": "code",
      "source": [
        "!python /content/drive/MyDrive/DSNET/test_one_image.py --gpu 0 --model_path \"/content/drive/MyDrive/MARUNet/MARNet_sha.pth\" --test_img_path \"/content/drive/MyDrive/DSNET/data/IMG_36.jpg\"\n"
      ],
      "metadata": {
        "colab": {
          "base_uri": "https://localhost:8080/"
        },
        "id": "N9I3-p92FJem",
        "outputId": "48bc76a0-5ceb-4ee1-f13d-cb3accfe18d6"
      },
      "execution_count": 11,
      "outputs": [
        {
          "output_type": "stream",
          "name": "stdout",
          "text": [
            "Traceback (most recent call last):\n",
            "  File \"/content/drive/MyDrive/DSNET/test_one_image.py\", line 3, in <module>\n",
            "    import torch\n",
            "  File \"/usr/local/lib/python3.10/dist-packages/torch/__init__.py\", line 1631, in <module>\n",
            "    from torch import quantization as quantization\n",
            "  File \"/usr/local/lib/python3.10/dist-packages/torch/quantization/__init__.py\", line 1, in <module>\n",
            "    from .quantize import *  # noqa: F403\n",
            "  File \"/usr/local/lib/python3.10/dist-packages/torch/quantization/quantize.py\", line 10, in <module>\n",
            "    from torch.ao.quantization.quantize import (\n",
            "  File \"/usr/local/lib/python3.10/dist-packages/torch/ao/quantization/__init__.py\", line 3, in <module>\n",
            "    from .fake_quantize import *  # noqa: F403\n",
            "  File \"/usr/local/lib/python3.10/dist-packages/torch/ao/quantization/fake_quantize.py\", line 5, in <module>\n",
            "    from torch.ao.quantization.observer import (\n",
            "  File \"/usr/local/lib/python3.10/dist-packages/torch/ao/quantization/observer.py\", line 15, in <module>\n",
            "    from torch.ao.quantization.utils import (\n",
            "  File \"/usr/local/lib/python3.10/dist-packages/torch/ao/quantization/utils.py\", line 12, in <module>\n",
            "    from torch.fx import Node\n",
            "  File \"/usr/local/lib/python3.10/dist-packages/torch/fx/__init__.py\", line 83, in <module>\n",
            "    from .graph_module import GraphModule\n",
            "  File \"/usr/local/lib/python3.10/dist-packages/torch/fx/graph_module.py\", line 18, in <module>\n",
            "    from ._compatibility import compatibility\n",
            "  File \"/usr/local/lib/python3.10/dist-packages/torch/fx/_compatibility.py\", line 1, in <module>\n",
            "    from typing import Any, Dict\n",
            "KeyboardInterrupt\n",
            "^C\n"
          ]
        }
      ]
    }
  ]
}