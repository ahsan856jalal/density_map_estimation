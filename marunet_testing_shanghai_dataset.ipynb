{
  "nbformat": 4,
  "nbformat_minor": 0,
  "metadata": {
    "colab": {
      "provenance": [],
      "include_colab_link": true
    },
    "kernelspec": {
      "name": "python3",
      "display_name": "Python 3"
    },
    "language_info": {
      "name": "python"
    }
  },
  "cells": [
    {
      "cell_type": "markdown",
      "metadata": {
        "id": "view-in-github",
        "colab_type": "text"
      },
      "source": [
        "<a href=\"https://colab.research.google.com/github/ahsan856jalal/density_map_estimation/blob/main/marunet_testing_shanghai_dataset.ipynb\" target=\"_parent\"><img src=\"https://colab.research.google.com/assets/colab-badge.svg\" alt=\"Open In Colab\"/></a>"
      ]
    },
    {
      "cell_type": "code",
      "source": [
        "from google.colab import drive\n",
        "drive.mount('/content/drive')"
      ],
      "metadata": {
        "colab": {
          "base_uri": "https://localhost:8080/"
        },
        "id": "t0rWlX85Ddk_",
        "outputId": "805f282f-6b87-4ddf-e217-3e32c7bd0322"
      },
      "execution_count": 1,
      "outputs": [
        {
          "output_type": "stream",
          "name": "stdout",
          "text": [
            "Mounted at /content/drive\n"
          ]
        }
      ]
    },
    {
      "cell_type": "code",
      "source": [
        "!git clone https://github.com/rongliangzi/MARUNet.git"
      ],
      "metadata": {
        "colab": {
          "base_uri": "https://localhost:8080/"
        },
        "id": "bEuBl0XYZ1gj",
        "outputId": "ce7ce909-8579-4b61-d413-b5f8abaedb28"
      },
      "execution_count": 2,
      "outputs": [
        {
          "output_type": "stream",
          "name": "stdout",
          "text": [
            "Cloning into 'MARUNet'...\n",
            "remote: Enumerating objects: 175, done.\u001b[K\n",
            "remote: Counting objects: 100% (175/175), done.\u001b[K\n",
            "remote: Compressing objects: 100% (126/126), done.\u001b[K\n",
            "remote: Total 175 (delta 76), reused 129 (delta 46), pack-reused 0\u001b[K\n",
            "Receiving objects: 100% (175/175), 1.14 MiB | 3.57 MiB/s, done.\n",
            "Resolving deltas: 100% (76/76), done.\n"
          ]
        }
      ]
    },
    {
      "cell_type": "code",
      "source": [
        "!mv /content/MARUNet /content/drive/MyDrive/MARUNet\n"
      ],
      "metadata": {
        "id": "WjY-tnZxZ4Z7"
      },
      "execution_count": 3,
      "outputs": []
    },
    {
      "cell_type": "code",
      "source": [
        "!cd /content/drive/MyDrive/MARUNet"
      ],
      "metadata": {
        "id": "GfQM3Eq3T7FZ"
      },
      "execution_count": 2,
      "outputs": []
    },
    {
      "cell_type": "markdown",
      "source": [
        "# MAKING JSON LISTS"
      ],
      "metadata": {
        "id": "_pRqW_MSEtiM"
      }
    },
    {
      "cell_type": "code",
      "source": [
        "import os\n",
        "import json\n",
        "img_dir = \"/content/drive/MyDrive/MARUNet/datasets/CrowdCounting/shanghaitech/part_A_final/train_data/images/\"\n",
        "\n",
        "image_files = os.listdir(img_dir)\n",
        "image_paths = [os.path.join(img_dir, file) for file in image_files]\n",
        "print(image_paths)\n",
        "\n",
        "json_file_path = \"/content/drive/MyDrive/MARUNet/json/sha_train.json\"\n",
        "with open(json_file_path, \"w\") as json_file:\n",
        "    json.dump(image_paths, json_file)\n",
        "\n",
        "print(\"Image paths saved to:\", json_file_path)"
      ],
      "metadata": {
        "colab": {
          "base_uri": "https://localhost:8080/"
        },
        "id": "HDbblTqmV3ak",
        "outputId": "d4621f31-dd97-4c71-9cd2-93dd859f4469"
      },
      "execution_count": null,
      "outputs": [
        {
          "output_type": "stream",
          "name": "stdout",
          "text": [
            "['/content/drive/MyDrive/MARUNet/datasets/CrowdCounting/shanghaitech/part_A_final/train_data/images/IMG_1.jpg', '/content/drive/MyDrive/MARUNet/datasets/CrowdCounting/shanghaitech/part_A_final/train_data/images/IMG_10.jpg', '/content/drive/MyDrive/MARUNet/datasets/CrowdCounting/shanghaitech/part_A_final/train_data/images/IMG_11.jpg', '/content/drive/MyDrive/MARUNet/datasets/CrowdCounting/shanghaitech/part_A_final/train_data/images/IMG_12.jpg', '/content/drive/MyDrive/MARUNet/datasets/CrowdCounting/shanghaitech/part_A_final/train_data/images/IMG_13.jpg', '/content/drive/MyDrive/MARUNet/datasets/CrowdCounting/shanghaitech/part_A_final/train_data/images/IMG_14.jpg', '/content/drive/MyDrive/MARUNet/datasets/CrowdCounting/shanghaitech/part_A_final/train_data/images/IMG_15.jpg', '/content/drive/MyDrive/MARUNet/datasets/CrowdCounting/shanghaitech/part_A_final/train_data/images/IMG_18.jpg', '/content/drive/MyDrive/MARUNet/datasets/CrowdCounting/shanghaitech/part_A_final/train_data/images/IMG_17.jpg', '/content/drive/MyDrive/MARUNet/datasets/CrowdCounting/shanghaitech/part_A_final/train_data/images/IMG_16.jpg', '/content/drive/MyDrive/MARUNet/datasets/CrowdCounting/shanghaitech/part_A_final/train_data/images/IMG_2.jpg', '/content/drive/MyDrive/MARUNet/datasets/CrowdCounting/shanghaitech/part_A_final/train_data/images/IMG_19.jpg', '/content/drive/MyDrive/MARUNet/datasets/CrowdCounting/shanghaitech/part_A_final/train_data/images/IMG_20.jpg', '/content/drive/MyDrive/MARUNet/datasets/CrowdCounting/shanghaitech/part_A_final/train_data/images/IMG_3.jpg', '/content/drive/MyDrive/MARUNet/datasets/CrowdCounting/shanghaitech/part_A_final/train_data/images/IMG_6.jpg', '/content/drive/MyDrive/MARUNet/datasets/CrowdCounting/shanghaitech/part_A_final/train_data/images/IMG_7.jpg', '/content/drive/MyDrive/MARUNet/datasets/CrowdCounting/shanghaitech/part_A_final/train_data/images/IMG_4.jpg', '/content/drive/MyDrive/MARUNet/datasets/CrowdCounting/shanghaitech/part_A_final/train_data/images/IMG_5.jpg', '/content/drive/MyDrive/MARUNet/datasets/CrowdCounting/shanghaitech/part_A_final/train_data/images/IMG_8.jpg', '/content/drive/MyDrive/MARUNet/datasets/CrowdCounting/shanghaitech/part_A_final/train_data/images/IMG_9.jpg']\n",
            "Image paths saved to: /content/drive/MyDrive/MARUNet/json/sh_train.json\n"
          ]
        }
      ]
    },
    {
      "cell_type": "code",
      "source": [
        "import os\n",
        "import json\n",
        "img_dir = \"/content/drive/MyDrive/MARUNet/datasets/CrowdCounting/shanghaitech/part_A_final/test_data/images/\"\n",
        "\n",
        "image_files = os.listdir(img_dir)\n",
        "image_paths = [os.path.join(img_dir, file) for file in image_files]\n",
        "print(image_paths)\n",
        "\n",
        "json_file_path = \"/content/drive/MyDrive/MARUNet/json/sha_val.json\"\n",
        "with open(json_file_path, \"w\") as json_file:\n",
        "    json.dump(image_paths, json_file)\n",
        "\n",
        "print(\"Image paths saved to:\", json_file_path)"
      ],
      "metadata": {
        "colab": {
          "base_uri": "https://localhost:8080/"
        },
        "id": "-aYuecUTXWk1",
        "outputId": "30758a98-7ab5-4e72-8528-7a322eadb2de"
      },
      "execution_count": null,
      "outputs": [
        {
          "output_type": "stream",
          "name": "stdout",
          "text": [
            "['/content/drive/MyDrive/MARUNet/datasets/CrowdCounting/shanghaitech/part_A_final/test_data/images/IMG_10.jpg', '/content/drive/MyDrive/MARUNet/datasets/CrowdCounting/shanghaitech/part_A_final/test_data/images/IMG_1.jpg', '/content/drive/MyDrive/MARUNet/datasets/CrowdCounting/shanghaitech/part_A_final/test_data/images/IMG_5.jpg', '/content/drive/MyDrive/MARUNet/datasets/CrowdCounting/shanghaitech/part_A_final/test_data/images/IMG_2.jpg', '/content/drive/MyDrive/MARUNet/datasets/CrowdCounting/shanghaitech/part_A_final/test_data/images/IMG_3.jpg', '/content/drive/MyDrive/MARUNet/datasets/CrowdCounting/shanghaitech/part_A_final/test_data/images/IMG_6.jpg', '/content/drive/MyDrive/MARUNet/datasets/CrowdCounting/shanghaitech/part_A_final/test_data/images/IMG_4.jpg', '/content/drive/MyDrive/MARUNet/datasets/CrowdCounting/shanghaitech/part_A_final/test_data/images/IMG_7.jpg', '/content/drive/MyDrive/MARUNet/datasets/CrowdCounting/shanghaitech/part_A_final/test_data/images/IMG_9.jpg', '/content/drive/MyDrive/MARUNet/datasets/CrowdCounting/shanghaitech/part_A_final/test_data/images/IMG_8.jpg']\n",
            "Image paths saved to: /content/drive/MyDrive/MARUNet/json/sha_val.json\n"
          ]
        }
      ]
    },
    {
      "cell_type": "markdown",
      "source": [
        "VGG-**16** model from another repository"
      ],
      "metadata": {
        "id": "OOBtshhWEzsM"
      }
    },
    {
      "cell_type": "code",
      "source": [
        "!wget --no-check-certificate \"https://web.eecs.umich.edu/~justincj/models/vgg16-00b39a1b.pth\" -d /content/drive/MyDrive/MARUNet/Models"
      ],
      "metadata": {
        "colab": {
          "base_uri": "https://localhost:8080/"
        },
        "id": "BBrfHBIyeX40",
        "outputId": "cb161914-2a61-4fc1-dd0a-151791a791b9"
      },
      "execution_count": 6,
      "outputs": [
        {
          "output_type": "stream",
          "name": "stdout",
          "text": [
            "DEBUG output created by Wget 1.21.2 on linux-gnu.\n",
            "\n",
            "Reading HSTS entries from /root/.wget-hsts\n",
            "URI encoding = ‘UTF-8’\n",
            "Converted file name 'vgg16-00b39a1b.pth' (UTF-8) -> 'vgg16-00b39a1b.pth' (UTF-8)\n",
            "--2024-06-06 15:10:25--  https://web.eecs.umich.edu/~justincj/models/vgg16-00b39a1b.pth\n",
            "Resolving web.eecs.umich.edu (web.eecs.umich.edu)... 141.212.113.214\n",
            "Caching web.eecs.umich.edu => 141.212.113.214\n",
            "Connecting to web.eecs.umich.edu (web.eecs.umich.edu)|141.212.113.214|:443... connected.\n",
            "Created socket 3.\n",
            "Releasing 0x00005d1c833f1fd0 (new refcount 1).\n",
            "Initiating SSL handshake.\n",
            "Handshake successful; connected socket 3 to SSL handle 0x00005d1c833f3ad0\n",
            "certificate:\n",
            "  subject: CN=all.eecs.umich.edu,O=University of Michigan,ST=Michigan,C=US\n",
            "  issuer:  CN=InCommon RSA Server CA 2,O=Internet2,C=US\n",
            "WARNING: cannot verify web.eecs.umich.edu's certificate, issued by ‘CN=InCommon RSA Server CA 2,O=Internet2,C=US’:\n",
            "  Unable to locally verify the issuer's authority.\n",
            "\n",
            "---request begin---\n",
            "GET /~justincj/models/vgg16-00b39a1b.pth HTTP/1.1\n",
            "Host: web.eecs.umich.edu\n",
            "User-Agent: Wget/1.21.2\n",
            "Accept: */*\n",
            "Accept-Encoding: identity\n",
            "Connection: Keep-Alive\n",
            "\n",
            "---request end---\n",
            "HTTP request sent, awaiting response... \n",
            "---response begin---\n",
            "HTTP/1.1 200 OK\n",
            "Date: Thu, 06 Jun 2024 15:10:26 GMT\n",
            "Server: Apache/2.4.6 (Red Hat Enterprise Linux) OpenSSL/1.0.2k-fips mod_auth_gssapi/1.5.1 mod_auth_kerb/5.4 mod_fcgid/2.3.9 mod_nss/1.0.14 NSS/3.28.4 PHP/5.6.40 SVN/1.7.14 mod_wsgi/3.4 Python/2.7.5\n",
            "Strict-Transport-Security: max-age=63072000; includeSubdomains; preload\n",
            "Last-Modified: Fri, 14 Feb 2020 22:45:34 GMT\n",
            "ETag: \"20fd0000-59e90f6b16cbf\"\n",
            "Accept-Ranges: bytes\n",
            "Content-Length: 553451520\n",
            "Keep-Alive: timeout=5, max=100\n",
            "Connection: Keep-Alive\n",
            "Content-Type: application/x-tar\n",
            "\n",
            "---response end---\n",
            "200 OK\n",
            "Registered socket 3 for persistent reuse.\n",
            "Parsed Strict-Transport-Security max-age = 63072000, includeSubDomains = true\n",
            "Added new HSTS host: web.eecs.umich.edu:443 (max-age: 63072000, includeSubdomains: true)\n",
            "Length: 553451520 (528M) [application/x-tar]\n",
            "Saving to: ‘vgg16-00b39a1b.pth’\n",
            "\n",
            "vgg16-00b39a1b.pth  100%[===================>] 527.81M  9.40MB/s    in 32s     \n",
            "\n",
            "2024-06-06 15:10:58 (16.5 MB/s) - ‘vgg16-00b39a1b.pth’ saved [553451520/553451520]\n",
            "\n",
            "URI encoding = ‘UTF-8’\n",
            "/content/drive/MyDrive/MARUNet/Models: Scheme missing.\n",
            "FINISHED --2024-06-06 15:10:58--\n",
            "Total wall clock time: 32s\n",
            "Downloaded: 1 files, 528M in 32s (16.5 MB/s)\n",
            "Saving HSTS entries to /root/.wget-hsts\n"
          ]
        }
      ]
    },
    {
      "cell_type": "code",
      "source": [
        "!mv /content/vgg16-00b39a1b.pth /content/drive/MyDrive/MARUNet/Models/vgg16-00b39a1b.pth"
      ],
      "metadata": {
        "id": "eG5MBGvoekEP"
      },
      "execution_count": 7,
      "outputs": []
    },
    {
      "cell_type": "markdown",
      "source": [
        "CODE TO GENERATE H5 files but in location sha_...-.. folder and train and test folder inside"
      ],
      "metadata": {
        "id": "wvakfBf2E4wp"
      }
    },
    {
      "cell_type": "code",
      "source": [
        "!python /content/drive/MyDrive/MARUNet/data_prepare/make_sha_npy.py"
      ],
      "metadata": {
        "id": "bKboVGkgh7V2"
      },
      "execution_count": null,
      "outputs": []
    },
    {
      "cell_type": "code",
      "source": [
        "!python /content/drive/MyDrive/MARUNet/data_prepare/make_sh_gt.py"
      ],
      "metadata": {
        "colab": {
          "base_uri": "https://localhost:8080/"
        },
        "id": "5f74d1AvinDk",
        "outputId": "c7fa8796-8567-4c5c-9a61-5a742c6e823b"
      },
      "execution_count": null,
      "outputs": [
        {
          "output_type": "stream",
          "name": "stdout",
          "text": [
            "/content/drive/MyDrive/MARUNet/data_prepare/make_sh_gt.py:8: DeprecationWarning: Please use `gaussian_filter` from the `scipy.ndimage` namespace, the `scipy.ndimage.filters` namespace is deprecated.\n",
            "  from scipy.ndimage.filters import gaussian_filter\n",
            " 87% 26/30 [12:15<01:53, 28.34s/it]img: IMG_4.jpg , img_h, img_w: 334 ,  500 , new_h, new_w: 384 ,  574\n",
            "100% 30/30 [14:03<00:00, 28.13s/it]\n"
          ]
        }
      ]
    },
    {
      "cell_type": "markdown",
      "source": [
        "# SHANGHAI COMPLETE DATASRT"
      ],
      "metadata": {
        "id": "st2Vo1mIFBy7"
      }
    },
    {
      "cell_type": "code",
      "source": [
        "!unzip /content/drive/MyDrive/MARUNet/shanghai_dataset_zip/shanghaitech.zip"
      ],
      "metadata": {
        "colab": {
          "base_uri": "https://localhost:8080/"
        },
        "id": "DAUgyaFkn6zB",
        "outputId": "2a801bd8-f9c9-4cbf-ef21-29bff4aa238e"
      },
      "execution_count": null,
      "outputs": [
        {
          "output_type": "stream",
          "name": "stdout",
          "text": [
            "Archive:  /content/drive/MyDrive/MARUNet/shanghai_dataset_zip/shanghaitech.zip\n",
            "replace /content/drive/MyDrive/MARUNet/shanghai_dataset_zip/shanghai_dataset/shanghaitech/part_A_final/test_data/ground_truth/GT_IMG_1.mat? [y]es, [n]o, [A]ll, [N]one, [r]ename: "
          ]
        }
      ]
    },
    {
      "cell_type": "markdown",
      "source": [
        "# TRAIN THE MODEL"
      ],
      "metadata": {
        "id": "yoxHtgN6Ekit"
      }
    },
    {
      "cell_type": "code",
      "source": [
        "!python /content/drive/MyDrive/MARUNet/train_generic.py --model MARNet --resume '0' --epochs 10 --dataset sha --train_json /content/drive/MyDrive/MARUNet/json/sha_train.json --val_json /content/drive/MyDrive/MARUNet/json/sha_val.json --loss mse+ssim --lazy_val 0"
      ],
      "metadata": {
        "colab": {
          "base_uri": "https://localhost:8080/"
        },
        "id": "hMsya6vLT1la",
        "outputId": "5314bd6f-ff52-4f47-97fe-1289bba9793a"
      },
      "execution_count": 8,
      "outputs": [
        {
          "output_type": "stream",
          "name": "stdout",
          "text": [
            "/usr/local/lib/python3.10/dist-packages/torch/utils/data/dataloader.py:558: UserWarning: This DataLoader will create 8 worker processes in total. Our suggested max number of worker in current system is 2, which is smaller than what this DataLoader is going to create. Please be aware that excessive worker creation might get DataLoader running slow or even freeze, lower the worker number to avoid potential slowness/freeze if necessary.\n",
            "  warnings.warn(_create_warning_msg(\n",
            "objective dmp+amp!\n",
            "front0.0.weight  parameters loaded!\n",
            "front0.0.bias  parameters loaded!\n",
            "front0.2.weight  parameters loaded!\n",
            "front0.2.bias  parameters loaded!\n",
            "front1.1.weight  parameters loaded!\n",
            "front1.1.bias  parameters loaded!\n",
            "front1.3.weight  parameters loaded!\n",
            "front1.3.bias  parameters loaded!\n",
            "front2.1.weight  parameters loaded!\n",
            "front2.1.bias  parameters loaded!\n",
            "front2.3.weight  parameters loaded!\n",
            "front2.3.bias  parameters loaded!\n",
            "front2.5.weight  parameters loaded!\n",
            "front2.5.bias  parameters loaded!\n",
            "front3.1.weight  parameters loaded!\n",
            "front3.1.bias  parameters loaded!\n",
            "front3.3.weight  parameters loaded!\n",
            "front3.3.bias  parameters loaded!\n",
            "front3.5.weight  parameters loaded!\n",
            "front3.5.bias  parameters loaded!\n",
            "front4.1.weight  parameters loaded!\n",
            "front4.1.bias  parameters loaded!\n",
            "front4.3.weight  parameters loaded!\n",
            "front4.3.bias  parameters loaded!\n",
            "front4.5.weight  parameters loaded!\n",
            "front4.5.bias  parameters loaded!\n",
            "/content/drive/MyDrive/MARUNet/Models/vgg16-00b39a1b.pth weights loaded!\n",
            "[2024-06-06 15:17:07,025], ## model: MARNet\n",
            "[2024-06-06 15:17:07,026], ## downsample: 1\n",
            "[2024-06-06 15:17:07,027], ## dataset: sha\n",
            "[2024-06-06 15:17:07,027], ## resume: 0\n",
            "[2024-06-06 15:17:07,028], ## lr: 1e-05\n",
            "[2024-06-06 15:17:07,028], ## gpu: 0\n",
            "[2024-06-06 15:17:07,029], ## scheduler: step\n",
            "[2024-06-06 15:17:07,029], ## optimizer: Adam\n",
            "[2024-06-06 15:17:07,029], ## decay: 0.0001\n",
            "[2024-06-06 15:17:07,029], ## epochs: 20\n",
            "[2024-06-06 15:17:07,029], ## lazy_val: 0\n",
            "[2024-06-06 15:17:07,029], ## print_freq: 50\n",
            "[2024-06-06 15:17:07,029], ## train_json: /content/drive/MyDrive/MARUNet/json/sha_train.json\n",
            "[2024-06-06 15:17:07,029], ## val_json: /content/drive/MyDrive/MARUNet/json/sha_val.json\n",
            "[2024-06-06 15:17:07,030], ## loss: mse+ssim\n",
            "[2024-06-06 15:17:07,030], ## val_patch: 0\n",
            "[2024-06-06 15:17:07,030], ## crop_mode: random\n",
            "[2024-06-06 15:17:07,030], ## crop_scale: 0.5\n",
            "[2024-06-06 15:17:07,030], ## value_factor: 50.0\n",
            "[2024-06-06 15:17:07,030], ## objective: dmp+amp\n",
            "[2024-06-06 15:17:07,030], ## amp_k: 0.1\n",
            "[2024-06-06 15:17:07,031], ## bn: 0\n",
            "[2024-06-06 15:17:07,031], ## bs: 1\n",
            "[2024-06-06 15:17:07,031], ## random_crop_n: 1\n",
            "[2024-06-06 15:17:07,031], ## loss_n: 6\n",
            "[2024-06-06 15:17:07,031], ## use_bg: False\n",
            "[2024-06-06 15:17:07,031], ## warm_up: False\n",
            "[2024-06-06 15:17:07,032], ## warm_up_steps: 5\n",
            "resume0\n",
            "HERE\n",
            "----------------STARTING TRAINING---------------\n",
            "/usr/local/lib/python3.10/dist-packages/torch/autograd/graph.py:744: UserWarning: Plan failed with a cudnnException: CUDNN_BACKEND_EXECUTION_PLAN_DESCRIPTOR: cudnnFinalize Descriptor Failed cudnn_status: CUDNN_STATUS_NOT_SUPPORTED (Triggered internally at ../aten/src/ATen/native/cudnn/Conv_v8.cpp:919.)\n",
            "  return Variable._execution_engine.run_backward(  # Calls into the C++ engine to run the backward pass\n",
            "[ep:1], [it:0], [loss:5.66503143], [output:2704.06, target:2649.24]\n",
            "validation on whole images!\n",
            "gt:1326.0, est:214.8\n",
            "gt:172.0, est:219.9\n",
            "gt:371.0, est:157.3\n",
            "gt:301.0, est:107.9\n",
            "gt:1110.0, est:309.2\n",
            "gt:818.0, est:348.7\n",
            "gt:361.0, est:258.2\n",
            "gt:502.0, est:284.8\n",
            "gt:170.0, est:94.9\n",
            "gt:568.0, est:169.2\n",
            "[2024-06-06 15:17:34,131], ## MARNet Epoch 1/20 Loss:5.451696, lr:0.0000100, [CUR]:363.0, 490.3, [Best]:363.0, 490.3\n",
            "----------------STARTING TRAINING---------------\n",
            "[ep:2], [it:0], [loss:5.29370975], [output:2347.35, target:187.73]\n",
            "validation on whole images!\n",
            "gt:1326.0, est:171.5\n",
            "gt:172.0, est:171.8\n",
            "gt:371.0, est:126.9\n",
            "gt:301.0, est:86.5\n",
            "gt:1110.0, est:246.8\n",
            "gt:818.0, est:283.6\n",
            "gt:361.0, est:201.9\n",
            "gt:502.0, est:219.1\n",
            "gt:170.0, est:75.4\n",
            "gt:568.0, est:134.2\n",
            "[2024-06-06 15:17:47,987], ## MARNet Epoch 2/20 Loss:5.091498, lr:0.0000100, [CUR]:398.1, 526.5, [Best]:363.0, 490.3\n",
            "----------------STARTING TRAINING---------------\n",
            "[ep:3], [it:0], [loss:4.88657475], [output:1219.24, target:4200.65]\n",
            "validation on whole images!\n",
            "gt:1326.0, est:136.3\n",
            "gt:172.0, est:136.3\n",
            "gt:371.0, est:97.9\n",
            "gt:301.0, est:72.0\n",
            "gt:1110.0, est:202.3\n",
            "gt:818.0, est:240.7\n",
            "gt:361.0, est:163.9\n",
            "gt:502.0, est:181.4\n",
            "gt:170.0, est:61.7\n",
            "gt:568.0, est:104.9\n",
            "[2024-06-06 15:18:01,191], ## MARNet Epoch 3/20 Loss:4.925941, lr:0.0000100, [CUR]:430.1, 554.0, [Best]:363.0, 490.3\n",
            "----------------STARTING TRAINING---------------\n",
            "[ep:4], [it:0], [loss:4.67503643], [output:1827.05, target:7902.92]\n",
            "validation on whole images!\n",
            "gt:1326.0, est:117.9\n",
            "gt:172.0, est:116.2\n",
            "gt:371.0, est:85.5\n",
            "gt:301.0, est:60.5\n",
            "gt:1110.0, est:169.1\n",
            "gt:818.0, est:199.5\n",
            "gt:361.0, est:136.9\n",
            "gt:502.0, est:153.7\n",
            "gt:170.0, est:52.0\n",
            "gt:568.0, est:93.0\n",
            "[2024-06-06 15:18:14,513], ## MARNet Epoch 4/20 Loss:4.818927, lr:0.0000100, [CUR]:451.5, 572.8, [Best]:363.0, 490.3\n",
            "----------------STARTING TRAINING---------------\n",
            "[ep:5], [it:0], [loss:4.63989687], [output:1907.23, target:13102.19]\n",
            "validation on whole images!\n",
            "gt:1326.0, est:93.6\n",
            "gt:172.0, est:90.8\n",
            "gt:371.0, est:67.8\n",
            "gt:301.0, est:47.7\n",
            "gt:1110.0, est:132.2\n",
            "gt:818.0, est:159.6\n",
            "gt:361.0, est:107.7\n",
            "gt:502.0, est:121.2\n",
            "gt:170.0, est:41.9\n",
            "gt:568.0, est:74.2\n",
            "[2024-06-06 15:18:27,839], ## MARNet Epoch 5/20 Loss:4.366828, lr:0.0000100, [CUR]:476.2, 595.0, [Best]:363.0, 490.3\n",
            "----------------STARTING TRAINING---------------\n",
            "[ep:6], [it:0], [loss:4.58132458], [output:1490.05, target:13383.43]\n",
            "validation on whole images!\n",
            "gt:1326.0, est:56.2\n",
            "gt:172.0, est:56.8\n",
            "gt:371.0, est:43.6\n",
            "gt:301.0, est:30.9\n",
            "gt:1110.0, est:83.4\n",
            "gt:818.0, est:104.7\n",
            "gt:361.0, est:67.6\n",
            "gt:502.0, est:75.4\n",
            "gt:170.0, est:27.9\n",
            "gt:568.0, est:44.9\n",
            "[2024-06-06 15:18:41,422], ## MARNet Epoch 6/20 Loss:3.787857, lr:0.0000100, [CUR]:510.8, 626.9, [Best]:363.0, 490.3\n",
            "----------------STARTING TRAINING---------------\n",
            "[ep:7], [it:0], [loss:2.54910851], [output:510.04, target:1591.82]\n",
            "validation on whole images!\n",
            "gt:1326.0, est:48.7\n",
            "gt:172.0, est:50.1\n",
            "gt:371.0, est:38.6\n",
            "gt:301.0, est:28.0\n",
            "gt:1110.0, est:76.6\n",
            "gt:818.0, est:97.2\n",
            "gt:361.0, est:60.6\n",
            "gt:502.0, est:66.9\n",
            "gt:170.0, est:25.7\n",
            "gt:568.0, est:38.6\n",
            "[2024-06-06 15:18:54,973], ## MARNet Epoch 7/20 Loss:3.353543, lr:0.0000100, [CUR]:516.8, 632.4, [Best]:363.0, 490.3\n",
            "----------------STARTING TRAINING---------------\n",
            "[ep:8], [it:0], [loss:4.13974810], [output:814.74, target:8953.35]\n",
            "validation on whole images!\n",
            "gt:1326.0, est:54.7\n",
            "gt:172.0, est:55.5\n",
            "gt:371.0, est:39.9\n",
            "gt:301.0, est:30.7\n",
            "gt:1110.0, est:86.9\n",
            "gt:818.0, est:107.9\n",
            "gt:361.0, est:68.1\n",
            "gt:502.0, est:74.8\n",
            "gt:170.0, est:27.9\n",
            "gt:568.0, est:45.6\n",
            "[2024-06-06 15:19:08,759], ## MARNet Epoch 8/20 Loss:3.371980, lr:0.0000100, [CUR]:510.7, 626.5, [Best]:363.0, 490.3\n",
            "----------------STARTING TRAINING---------------\n",
            "[ep:9], [it:0], [loss:2.79047513], [output:656.08, target:6851.28]\n",
            "validation on whole images!\n",
            "gt:1326.0, est:49.8\n",
            "gt:172.0, est:53.7\n",
            "gt:371.0, est:36.0\n",
            "gt:301.0, est:29.4\n",
            "gt:1110.0, est:88.7\n",
            "gt:818.0, est:108.8\n",
            "gt:361.0, est:65.0\n",
            "gt:502.0, est:70.4\n",
            "gt:170.0, est:26.8\n",
            "gt:568.0, est:43.5\n",
            "[2024-06-06 15:19:22,832], ## MARNet Epoch 9/20 Loss:3.309304, lr:0.0000100, [CUR]:512.7, 628.0, [Best]:363.0, 490.3\n",
            "----------------STARTING TRAINING---------------\n",
            "[ep:10], [it:0], [loss:1.27986622], [output:451.49, target:182.15]\n",
            "validation on whole images!\n",
            "gt:1326.0, est:38.3\n",
            "gt:172.0, est:42.2\n",
            "gt:371.0, est:28.6\n",
            "gt:301.0, est:23.6\n",
            "gt:1110.0, est:74.6\n",
            "gt:818.0, est:95.3\n",
            "gt:361.0, est:51.3\n",
            "gt:502.0, est:52.8\n",
            "gt:170.0, est:21.0\n",
            "gt:568.0, est:32.2\n",
            "[2024-06-06 15:19:36,749], ## MARNet Epoch 10/20 Loss:2.847011, lr:0.0000100, [CUR]:523.9, 638.0, [Best]:363.0, 490.3\n",
            "----------------STARTING TRAINING---------------\n",
            "[ep:11], [it:0], [loss:4.65502453], [output:900.73, target:19136.42]\n",
            "validation on whole images!\n",
            "gt:1326.0, est:52.2\n",
            "gt:172.0, est:58.1\n",
            "gt:371.0, est:37.3\n",
            "gt:301.0, est:32.7\n",
            "gt:1110.0, est:106.4\n",
            "gt:818.0, est:133.0\n",
            "gt:361.0, est:73.3\n",
            "gt:502.0, est:80.2\n",
            "gt:170.0, est:30.7\n",
            "gt:568.0, est:44.1\n",
            "[2024-06-06 15:19:50,447], ## MARNet Epoch 11/20 Loss:3.090017, lr:0.0000100, [CUR]:505.1, 620.5, [Best]:363.0, 490.3\n",
            "----------------STARTING TRAINING---------------\n",
            "[ep:12], [it:0], [loss:4.35255289], [output:717.82, target:22627.80]\n",
            "validation on whole images!\n",
            "gt:1326.0, est:47.6\n",
            "gt:172.0, est:53.1\n",
            "gt:371.0, est:31.5\n",
            "gt:301.0, est:30.3\n",
            "gt:1110.0, est:100.1\n",
            "gt:818.0, est:125.4\n",
            "gt:361.0, est:67.3\n",
            "gt:502.0, est:73.6\n",
            "gt:170.0, est:28.5\n",
            "gt:568.0, est:39.2\n",
            "[2024-06-06 15:20:04,093], ## MARNet Epoch 12/20 Loss:3.172353, lr:0.0000100, [CUR]:510.2, 625.0, [Best]:363.0, 490.3\n",
            "----------------STARTING TRAINING---------------\n",
            "[ep:13], [it:0], [loss:2.34378695], [output:445.83, target:3653.72]\n",
            "validation on whole images!\n",
            "gt:1326.0, est:43.2\n",
            "gt:172.0, est:48.3\n",
            "gt:371.0, est:29.7\n",
            "gt:301.0, est:26.1\n",
            "gt:1110.0, est:94.1\n",
            "gt:818.0, est:117.6\n",
            "gt:361.0, est:58.7\n",
            "gt:502.0, est:61.4\n",
            "gt:170.0, est:23.8\n",
            "gt:568.0, est:35.8\n",
            "[2024-06-06 15:20:17,826], ## MARNet Epoch 13/20 Loss:2.964644, lr:0.0000100, [CUR]:516.0, 629.7, [Best]:363.0, 490.3\n",
            "----------------STARTING TRAINING---------------\n",
            "[ep:14], [it:0], [loss:4.57080412], [output:540.88, target:37054.45]\n",
            "validation on whole images!\n",
            "gt:1326.0, est:46.8\n",
            "gt:172.0, est:51.3\n",
            "gt:371.0, est:31.1\n",
            "gt:301.0, est:27.9\n",
            "gt:1110.0, est:103.5\n",
            "gt:818.0, est:125.5\n",
            "gt:361.0, est:62.6\n",
            "gt:502.0, est:65.3\n",
            "gt:170.0, est:25.3\n",
            "gt:568.0, est:38.0\n",
            "[2024-06-06 15:20:31,561], ## MARNet Epoch 14/20 Loss:3.024491, lr:0.0000100, [CUR]:512.2, 625.7, [Best]:363.0, 490.3\n",
            "----------------STARTING TRAINING---------------\n",
            "[ep:15], [it:0], [loss:2.60887027], [output:515.67, target:12193.49]\n",
            "validation on whole images!\n",
            "gt:1326.0, est:63.1\n",
            "gt:172.0, est:71.0\n",
            "gt:371.0, est:43.2\n",
            "gt:301.0, est:37.7\n",
            "gt:1110.0, est:139.2\n",
            "gt:818.0, est:171.1\n",
            "gt:361.0, est:86.6\n",
            "gt:502.0, est:93.1\n",
            "gt:170.0, est:34.1\n",
            "gt:568.0, est:52.4\n",
            "[2024-06-06 15:20:45,314], ## MARNet Epoch 15/20 Loss:2.635209, lr:0.0000100, [CUR]:490.7, 605.8, [Best]:363.0, 490.3\n",
            "----------------STARTING TRAINING---------------\n",
            "[ep:16], [it:0], [loss:2.91537380], [output:1255.17, target:3961.33]\n",
            "validation on whole images!\n",
            "gt:1326.0, est:50.4\n",
            "gt:172.0, est:58.3\n",
            "gt:371.0, est:33.6\n",
            "gt:301.0, est:30.1\n",
            "gt:1110.0, est:118.2\n",
            "gt:818.0, est:138.6\n",
            "gt:361.0, est:68.8\n",
            "gt:502.0, est:69.1\n",
            "gt:170.0, est:26.0\n",
            "gt:568.0, est:42.6\n",
            "[2024-06-06 15:20:59,176], ## MARNet Epoch 16/20 Loss:2.802414, lr:0.0000100, [CUR]:506.3, 619.8, [Best]:363.0, 490.3\n",
            "----------------STARTING TRAINING---------------\n",
            "[ep:17], [it:0], [loss:3.33157849], [output:983.64, target:13039.99]\n",
            "validation on whole images!\n",
            "gt:1326.0, est:62.7\n",
            "gt:172.0, est:69.5\n",
            "gt:371.0, est:40.4\n",
            "gt:301.0, est:37.2\n",
            "gt:1110.0, est:168.4\n",
            "gt:818.0, est:191.6\n",
            "gt:361.0, est:92.3\n",
            "gt:502.0, est:86.9\n",
            "gt:170.0, est:34.8\n",
            "gt:568.0, est:55.2\n",
            "[2024-06-06 15:21:12,998], ## MARNet Epoch 17/20 Loss:2.820147, lr:0.0000100, [CUR]:486.0, 599.2, [Best]:363.0, 490.3\n",
            "----------------STARTING TRAINING---------------\n",
            "[ep:18], [it:0], [loss:3.11373353], [output:783.59, target:2832.79]\n",
            "validation on whole images!\n",
            "gt:1326.0, est:103.2\n",
            "gt:172.0, est:113.6\n",
            "gt:371.0, est:69.1\n",
            "gt:301.0, est:60.7\n",
            "gt:1110.0, est:257.2\n",
            "gt:818.0, est:313.7\n",
            "gt:361.0, est:153.4\n",
            "gt:502.0, est:152.8\n",
            "gt:170.0, est:57.7\n",
            "gt:568.0, est:89.8\n",
            "[2024-06-06 15:21:26,780], ## MARNet Epoch 18/20 Loss:3.082851, lr:0.0000100, [CUR]:432.8, 550.9, [Best]:363.0, 490.3\n",
            "----------------STARTING TRAINING---------------\n",
            "[ep:19], [it:0], [loss:3.30225420], [output:1269.13, target:3302.79]\n",
            "validation on whole images!\n",
            "gt:1326.0, est:100.2\n",
            "gt:172.0, est:99.2\n",
            "gt:371.0, est:55.2\n",
            "gt:301.0, est:58.8\n",
            "gt:1110.0, est:253.5\n",
            "gt:818.0, est:293.2\n",
            "gt:361.0, est:146.0\n",
            "gt:502.0, est:142.3\n",
            "gt:170.0, est:56.7\n",
            "gt:568.0, est:84.5\n",
            "[2024-06-06 15:21:40,481], ## MARNet Epoch 19/20 Loss:2.738927, lr:0.0000100, [CUR]:440.9, 556.5, [Best]:363.0, 490.3\n",
            "----------------STARTING TRAINING---------------\n",
            "[ep:20], [it:0], [loss:2.97064137], [output:609.99, target:18288.22]\n",
            "validation on whole images!\n",
            "gt:1326.0, est:115.0\n",
            "gt:172.0, est:115.3\n",
            "gt:371.0, est:67.1\n",
            "gt:301.0, est:65.3\n",
            "gt:1110.0, est:290.5\n",
            "gt:818.0, est:339.7\n",
            "gt:361.0, est:167.3\n",
            "gt:502.0, est:154.7\n",
            "gt:170.0, est:61.2\n",
            "gt:568.0, est:98.2\n",
            "[2024-06-06 15:21:54,172], ## MARNet Epoch 20/20 Loss:2.838632, lr:0.0000100, [CUR]:422.5, 539.3, [Best]:363.0, 490.3\n",
            "final weight saved to : /content/drive/MyDrive/MARUNet/Models/MARNet_d1_sha_random_cr0.5_mse+ssim_v50_amp0.1_lsn6.pth\n"
          ]
        }
      ]
    },
    {
      "cell_type": "markdown",
      "source": [
        "# visualize"
      ],
      "metadata": {
        "id": "1uLSt1A-mwn1"
      }
    },
    {
      "cell_type": "code",
      "source": [
        "!python /content/drive/MyDrive/MARUNet/visualize_feature.py --img_path \"/content/drive/MyDrive/MARUNet/datasets/CrowdCounting/shanghaitech/part_A_final/test_data/images/IMG_10.jpg\""
      ],
      "metadata": {
        "colab": {
          "base_uri": "https://localhost:8080/"
        },
        "id": "rMMolm_-hSXT",
        "outputId": "6801307c-7173-4cc6-a778-3aa376ff77de"
      },
      "execution_count": 8,
      "outputs": [
        {
          "output_type": "stream",
          "name": "stdout",
          "text": [
            "objective dmp+amp!\n",
            "/content/drive/MyDrive/MARUNet/Models/MARNet_sha.pth  loaded!\n",
            "save path is  /content/drive/MyDrive/MARUNet/figs/visual_feature/IMG_10\n",
            "Directory created: /content/drive/MyDrive/MARUNet/figs/visual_feature/IMG_10\n",
            "input_img.shape: torch.Size([1, 3, 768, 1024])\n"
          ]
        }
      ]
    },
    {
      "cell_type": "code",
      "source": [
        "import numpy as np\n",
        "amp_data=np.load('/content/drive/MyDrive/MARUNet/figs/visual_feature/IMG_10/sha130_amp4.npy')\n",
        "fea_data=np.load('/content/drive/MyDrive/MARUNet/figs/visual_feature/IMG_10/sha130_xb4_after.npy')\n",
        "print(amp_data.shape,fea_data.shape)\n",
        "import matplotlib.pyplot as plt\n",
        "from matplotlib import cm as CM\n",
        "\n",
        "plt.imshow(amp_data, cmap=CM.jet)  # cmap='gray' for grayscale images\n",
        "plt.axis('off')  # Turn off axis\n",
        "plt.show()"
      ],
      "metadata": {
        "colab": {
          "base_uri": "https://localhost:8080/",
          "height": 424
        },
        "id": "7ZQBd7zjayRD",
        "outputId": "3955ffef-7aa6-45fb-b512-004e7cdda7ef"
      },
      "execution_count": 12,
      "outputs": [
        {
          "output_type": "stream",
          "name": "stdout",
          "text": [
            "(48, 64) (48, 64)\n"
          ]
        },
        {
          "output_type": "display_data",
          "data": {
            "text/plain": [
              "<Figure size 640x480 with 1 Axes>"
            ],
            "image/png": "[encoded data removed]"
          },
          "metadata": {}
        }
      ]
    },
    {
      "cell_type": "markdown",
      "source": [
        "# DSNET"
      ],
      "metadata": {
        "id": "89CghX_GFFk_"
      }
    },
    {
      "cell_type": "code",
      "execution_count": null,
      "metadata": {
        "colab": {
          "base_uri": "https://localhost:8080/"
        },
        "id": "vuW1GmorDYOG",
        "outputId": "43c97d82-aeec-4856-f51c-519639020acd"
      },
      "outputs": [
        {
          "output_type": "stream",
          "name": "stdout",
          "text": [
            "Cloning into 'Dense-Scale-Network-for-Crowd-Counting'...\n",
            "remote: Enumerating objects: 59, done.\u001b[K\n",
            "remote: Counting objects: 100% (1/1), done.\u001b[K\n",
            "remote: Total 59 (delta 0), reused 0 (delta 0), pack-reused 58\u001b[K\n",
            "Receiving objects: 100% (59/59), 32.03 KiB | 712.00 KiB/s, done.\n",
            "Resolving deltas: 100% (24/24), done.\n"
          ]
        }
      ],
      "source": [
        "!git clone https://github.com/rongliangzi/Dense-Scale-Network-for-Crowd-Counting.git"
      ]
    },
    {
      "cell_type": "code",
      "source": [
        "!mv /content/Dense-Scale-Network-for-Crowd-Counting /content/drive/MyDrive/DSNET"
      ],
      "metadata": {
        "id": "NOrvCCt8EeIq"
      },
      "execution_count": null,
      "outputs": []
    },
    {
      "cell_type": "code",
      "source": [
        "!cd /content/drive/MyDrive/DSNET"
      ],
      "metadata": {
        "id": "aXxDAGHgFpIH"
      },
      "execution_count": null,
      "outputs": []
    },
    {
      "cell_type": "code",
      "source": [
        "!python /content/drive/MyDrive/DSNET/test_one_image.py --gpu 0 --model_path \"/content/drive/MyDrive/MARUNet/MARNet_sha.pth\" --test_img_path \"/content/drive/MyDrive/DSNET/data/IMG_36.jpg\"\n"
      ],
      "metadata": {
        "colab": {
          "base_uri": "https://localhost:8080/"
        },
        "id": "N9I3-p92FJem",
        "outputId": "48bc76a0-5ceb-4ee1-f13d-cb3accfe18d6"
      },
      "execution_count": null,
      "outputs": [
        {
          "output_type": "stream",
          "name": "stdout",
          "text": [
            "Traceback (most recent call last):\n",
            "  File \"/content/drive/MyDrive/DSNET/test_one_image.py\", line 3, in <module>\n",
            "    import torch\n",
            "  File \"/usr/local/lib/python3.10/dist-packages/torch/__init__.py\", line 1631, in <module>\n",
            "    from torch import quantization as quantization\n",
            "  File \"/usr/local/lib/python3.10/dist-packages/torch/quantization/__init__.py\", line 1, in <module>\n",
            "    from .quantize import *  # noqa: F403\n",
            "  File \"/usr/local/lib/python3.10/dist-packages/torch/quantization/quantize.py\", line 10, in <module>\n",
            "    from torch.ao.quantization.quantize import (\n",
            "  File \"/usr/local/lib/python3.10/dist-packages/torch/ao/quantization/__init__.py\", line 3, in <module>\n",
            "    from .fake_quantize import *  # noqa: F403\n",
            "  File \"/usr/local/lib/python3.10/dist-packages/torch/ao/quantization/fake_quantize.py\", line 5, in <module>\n",
            "    from torch.ao.quantization.observer import (\n",
            "  File \"/usr/local/lib/python3.10/dist-packages/torch/ao/quantization/observer.py\", line 15, in <module>\n",
            "    from torch.ao.quantization.utils import (\n",
            "  File \"/usr/local/lib/python3.10/dist-packages/torch/ao/quantization/utils.py\", line 12, in <module>\n",
            "    from torch.fx import Node\n",
            "  File \"/usr/local/lib/python3.10/dist-packages/torch/fx/__init__.py\", line 83, in <module>\n",
            "    from .graph_module import GraphModule\n",
            "  File \"/usr/local/lib/python3.10/dist-packages/torch/fx/graph_module.py\", line 18, in <module>\n",
            "    from ._compatibility import compatibility\n",
            "  File \"/usr/local/lib/python3.10/dist-packages/torch/fx/_compatibility.py\", line 1, in <module>\n",
            "    from typing import Any, Dict\n",
            "KeyboardInterrupt\n",
            "^C\n"
          ]
        }
      ]
    }
  ]
}