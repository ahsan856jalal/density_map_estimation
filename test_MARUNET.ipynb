{
  "nbformat": 4,
  "nbformat_minor": 0,
  "metadata": {
    "colab": {
      "provenance": [],
      "gpuType": "T4",
      "authorship_tag": "ABX9TyPddreEy0UEr0SjATeva5Yg",
      "include_colab_link": true
    },
    "kernelspec": {
      "name": "python3",
      "display_name": "Python 3"
    },
    "language_info": {
      "name": "python"
    },
    "accelerator": "GPU"
  },
  "cells": [
    {
      "cell_type": "markdown",
      "metadata": {
        "id": "view-in-github",
        "colab_type": "text"
      },
      "source": [
        "<a href=\"https://colab.research.google.com/github/ahsan856jalal/density_map_estimation/blob/main/test_MARUNET.ipynb\" target=\"_parent\"><img src=\"https://colab.research.google.com/assets/colab-badge.svg\" alt=\"Open In Colab\"/></a>"
      ]
    },
    {
      "cell_type": "code",
      "source": [
        "from google.colab import drive\n",
        "drive.mount('/content/drive')"
      ],
      "metadata": {
        "colab": {
          "base_uri": "https://localhost:8080/"
        },
        "id": "AYbp8tqBVNxC",
        "outputId": "28d47661-1448-480b-dac0-196d86892b77"
      },
      "execution_count": 2,
      "outputs": [
        {
          "output_type": "stream",
          "name": "stdout",
          "text": [
            "Mounted at /content/drive\n"
          ]
        }
      ]
    },
    {
      "cell_type": "code",
      "execution_count": 3,
      "metadata": {
        "colab": {
          "base_uri": "https://localhost:8080/"
        },
        "id": "UGsWE5y7VJmy",
        "outputId": "72753d70-9f89-49d1-9c18-e75c4bb7e302"
      },
      "outputs": [
        {
          "output_type": "stream",
          "name": "stdout",
          "text": [
            "Cloning into 'MARUNet'...\n",
            "remote: Enumerating objects: 175, done.\u001b[K\n",
            "remote: Counting objects: 100% (175/175), done.\u001b[K\n",
            "remote: Compressing objects: 100% (126/126), done.\u001b[K\n",
            "remote: Total 175 (delta 76), reused 129 (delta 46), pack-reused 0\u001b[K\n",
            "Receiving objects: 100% (175/175), 1.14 MiB | 3.72 MiB/s, done.\n",
            "Resolving deltas: 100% (76/76), done.\n"
          ]
        }
      ],
      "source": [
        "!git clone https://github.com/rongliangzi/MARUNet.git"
      ]
    },
    {
      "cell_type": "code",
      "source": [
        "!mv /content/MARUNet /content/drive/MyDrive/MARUNet"
      ],
      "metadata": {
        "id": "DiZHWhN_VL4c"
      },
      "execution_count": 4,
      "outputs": []
    },
    {
      "cell_type": "code",
      "source": [
        "!cd /content/drive/MyDrive/MARUNet"
      ],
      "metadata": {
        "id": "ZrjieqtKV6ZC"
      },
      "execution_count": 6,
      "outputs": []
    },
    {
      "cell_type": "code",
      "source": [],
      "metadata": {
        "id": "mXs6klqwwJvg"
      },
      "execution_count": null,
      "outputs": []
    },
    {
      "cell_type": "code",
      "source": [
        "!python /content/drive/MyDrive/MARUNet/test_one_image.py"
      ],
      "metadata": {
        "colab": {
          "base_uri": "https://localhost:8080/"
        },
        "id": "9Eic-ngiV8RD",
        "outputId": "57d60344-b0a3-42dc-f1fe-9fe26bbb543f"
      },
      "execution_count": 17,
      "outputs": [
        {
          "output_type": "stream",
          "name": "stdout",
          "text": [
            "here \n",
            "\n",
            "/content/drive/MyDrive/MARUNet/MARNet_sha.pth sha\n",
            "objective dmp+amp!\n",
            "Traceback (most recent call last):\n",
            "  File \"/content/drive/MyDrive/MARUNet/test_one_image.py\", line 80, in <module>\n",
            "    model = load_model(['MARNet'],'/content/drive/MyDrive/MARUNet/MARNet_sha.pth')\n",
            "  File \"/content/drive/MyDrive/MARUNet/test_one_image.py\", line 54, in load_model\n",
            "    pretrained_model = MARNet(load_model=model_paths, downsample=1, objective='dmp+amp')\n",
            "  File \"/content/drive/MyDrive/MARUNet/modeling/marnet.py\", line 54, in __init__\n",
            "    self._init_weights()\n",
            "  File \"/content/drive/MyDrive/MARUNet/modeling/marnet.py\", line 263, in _init_weights\n",
            "    self.load_state_dict(torch.load(self.load_model))\n",
            "  File \"/usr/local/lib/python3.10/dist-packages/torch/serialization.py\", line 1040, in load\n",
            "    return _legacy_load(opened_file, map_location, pickle_module, **pickle_load_args)\n",
            "  File \"/usr/local/lib/python3.10/dist-packages/torch/serialization.py\", line 1272, in _legacy_load\n",
            "    result = unpickler.load()\n",
            "  File \"/usr/local/lib/python3.10/dist-packages/torch/serialization.py\", line 1205, in persistent_load\n",
            "    obj = restore_location(obj, location)\n",
            "  File \"/usr/local/lib/python3.10/dist-packages/torch/serialization.py\", line 390, in default_restore_location\n",
            "    result = fn(storage, location)\n",
            "  File \"/usr/local/lib/python3.10/dist-packages/torch/serialization.py\", line 265, in _cuda_deserialize\n",
            "    device = validate_cuda_device(location)\n",
            "  File \"/usr/local/lib/python3.10/dist-packages/torch/serialization.py\", line 249, in validate_cuda_device\n",
            "    raise RuntimeError('Attempting to deserialize object on a CUDA '\n",
            "RuntimeError: Attempting to deserialize object on a CUDA device but torch.cuda.is_available() is False. If you are running on a CPU-only machine, please use torch.load with map_location=torch.device('cpu') to map your storages to the CPU.\n"
          ]
        }
      ]
    }
  ]
}